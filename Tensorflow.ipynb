{
  "nbformat": 4,
  "nbformat_minor": 0,
  "metadata": {
    "colab": {
      "provenance": []
    },
    "kernelspec": {
      "name": "python3",
      "display_name": "Python 3"
    },
    "language_info": {
      "name": "python"
    }
  },
  "cells": [
    {
      "cell_type": "code",
      "execution_count": 1,
      "metadata": {
        "id": "x_5zMXGP6Jzc"
      },
      "outputs": [],
      "source": [
        "import tensorflow as tf"
      ]
    },
    {
      "cell_type": "markdown",
      "source": [
        "Creating Tensors"
      ],
      "metadata": {
        "id": "Byihtzf66RMU"
      }
    },
    {
      "cell_type": "code",
      "source": [
        "string = tf.Variable('hello world',tf.string)\n",
        "number = tf.Variable(22,tf.int32)\n",
        "floating = tf.Variable(22.0,tf.float64)\n",
        "\n"
      ],
      "metadata": {
        "id": "nvUT9sE46Tzb"
      },
      "execution_count": 3,
      "outputs": []
    },
    {
      "cell_type": "markdown",
      "source": [
        "Rank/Degree of Tensors\n",
        "\n",
        "These terms simply means the number of dimensions involved in tensor.\n",
        "The above tensors we created are basically of rank 0 because they are scalar which means they dont have dimension. scalars are dimensionless."
      ],
      "metadata": {
        "id": "pI6nnJUm6d5l"
      }
    },
    {
      "cell_type": "markdown",
      "source": [
        "Now below cell represents the tensors of higer rank\n"
      ],
      "metadata": {
        "id": "KG8YD5Ru7Ewh"
      }
    },
    {
      "cell_type": "code",
      "source": [
        "# anything in array are basically of rank 1 , coz it can store more than 1 value in 1 dimension\n",
        "rank1_tensor = tf.Variable([\"akku\",\"sonu\",\"chinu\"],tf.string)\n",
        "rank1_tensor = tf.Variable([[\"akku\"],[\"chinti\"],[\"rohan bhai\"]],tf.string)  # these are tensors of rank 2 coz list inside the list basically nested list\n",
        "\n",
        "# important : we should have the uniform number of elements in the list.\n"
      ],
      "metadata": {
        "id": "F9dnuCQL7Jmy"
      },
      "execution_count": 7,
      "outputs": []
    },
    {
      "cell_type": "markdown",
      "source": [
        "to determine the rank of the tensor we can use the following method"
      ],
      "metadata": {
        "id": "hxTZJiHw8_2d"
      }
    },
    {
      "cell_type": "code",
      "source": [
        "tf.rank(rank1_tensor)"
      ],
      "metadata": {
        "colab": {
          "base_uri": "https://localhost:8080/"
        },
        "id": "2qB6JkSy9HD_",
        "outputId": "83e73c9c-ee8e-4c09-bb7b-efd927788593"
      },
      "execution_count": 8,
      "outputs": [
        {
          "output_type": "execute_result",
          "data": {
            "text/plain": [
              "<tf.Tensor: shape=(), dtype=int32, numpy=2>"
            ]
          },
          "metadata": {},
          "execution_count": 8
        }
      ]
    },
    {
      "cell_type": "markdown",
      "source": [
        "Shape of Tensors\n",
        "\n",
        "The shape of a tensors basically means the number of elements in each dimension.\n",
        "To get the shape we will use shape method.\n"
      ],
      "metadata": {
        "id": "m11hab1R9foT"
      }
    },
    {
      "cell_type": "code",
      "source": [
        "rank1_tensor.shape"
      ],
      "metadata": {
        "colab": {
          "base_uri": "https://localhost:8080/"
        },
        "id": "l6X17WXW91J6",
        "outputId": "86b284ff-0176-4519-bd60-6c4056573d26"
      },
      "execution_count": 10,
      "outputs": [
        {
          "output_type": "execute_result",
          "data": {
            "text/plain": [
              "TensorShape([3, 1])"
            ]
          },
          "metadata": {},
          "execution_count": 10
        }
      ]
    },
    {
      "cell_type": "markdown",
      "source": [
        "Changing the shape\n"
      ],
      "metadata": {
        "id": "X6V6W6u4NRCd"
      }
    },
    {
      "cell_type": "code",
      "source": [
        "tensor1=tf.ones([1,2,3]) # tf.ones creates the tensor of shape [1,2,3] full of ones\n",
        "tensor2=tf.reshape(tensor1,[2,3,1])\n",
        "tensor3=tf.reshape(tensor2,[3,-1])"
      ],
      "metadata": {
        "id": "MnVBAbgDOcc2"
      },
      "execution_count": 12,
      "outputs": []
    },
    {
      "cell_type": "code",
      "source": [
        "print(tensor1)\n",
        "print(tensor2)\n",
        "print(tensor3)"
      ],
      "metadata": {
        "colab": {
          "base_uri": "https://localhost:8080/"
        },
        "id": "Boc4bHsuPCTv",
        "outputId": "4e707efd-cacc-4828-834d-4d2bf747ad4f"
      },
      "execution_count": 13,
      "outputs": [
        {
          "output_type": "stream",
          "name": "stdout",
          "text": [
            "tf.Tensor(\n",
            "[[[1. 1. 1.]\n",
            "  [1. 1. 1.]]], shape=(1, 2, 3), dtype=float32)\n",
            "tf.Tensor(\n",
            "[[[1.]\n",
            "  [1.]\n",
            "  [1.]]\n",
            "\n",
            " [[1.]\n",
            "  [1.]\n",
            "  [1.]]], shape=(2, 3, 1), dtype=float32)\n",
            "tf.Tensor(\n",
            "[[1. 1.]\n",
            " [1. 1.]\n",
            " [1. 1.]], shape=(3, 2), dtype=float32)\n"
          ]
        }
      ]
    },
    {
      "cell_type": "markdown",
      "source": [
        "Types of tensors:\n",
        "\n",
        "1. Variables\n",
        "2. Constant\n",
        "3. Placeholder\n",
        "4. Sparse tensor\n",
        "\n",
        "with the exception of variable all these tensors are immutable, meaning their value wont change during execution."
      ],
      "metadata": {
        "id": "la_mQ0eGPuYh"
      }
    }
  ]
}