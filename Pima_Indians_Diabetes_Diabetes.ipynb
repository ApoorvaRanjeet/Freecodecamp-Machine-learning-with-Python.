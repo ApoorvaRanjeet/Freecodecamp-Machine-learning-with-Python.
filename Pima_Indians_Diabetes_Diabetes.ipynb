{
  "nbformat": 4,
  "nbformat_minor": 0,
  "metadata": {
    "colab": {
      "provenance": []
    },
    "kernelspec": {
      "name": "python3",
      "display_name": "Python 3"
    },
    "language_info": {
      "name": "python"
    }
  },
  "cells": [
    {
      "cell_type": "code",
      "execution_count": 43,
      "metadata": {
        "id": "dp1TBcQQQmAL"
      },
      "outputs": [],
      "source": [
        "import pandas as pd\n",
        "import numpy as np"
      ]
    },
    {
      "cell_type": "code",
      "source": [
        "df=pd.read_csv('/content/diabetes.csv')"
      ],
      "metadata": {
        "id": "SFd3aRWPQ3hq"
      },
      "execution_count": 44,
      "outputs": []
    },
    {
      "cell_type": "code",
      "source": [
        "df.head()"
      ],
      "metadata": {
        "colab": {
          "base_uri": "https://localhost:8080/",
          "height": 206
        },
        "id": "XAeUCO0wQ8FB",
        "outputId": "c47fa074-17b0-421b-ce60-a7e26ed76376"
      },
      "execution_count": 45,
      "outputs": [
        {
          "output_type": "execute_result",
          "data": {
            "text/plain": [
              "   Pregnancies  Glucose  BloodPressure  SkinThickness  Insulin   BMI  \\\n",
              "0            6      148             72             35        0  33.6   \n",
              "1            1       85             66             29        0  26.6   \n",
              "2            8      183             64              0        0  23.3   \n",
              "3            1       89             66             23       94  28.1   \n",
              "4            0      137             40             35      168  43.1   \n",
              "\n",
              "   DiabetesPedigreeFunction  Age  Outcome  \n",
              "0                     0.627   50        1  \n",
              "1                     0.351   31        0  \n",
              "2                     0.672   32        1  \n",
              "3                     0.167   21        0  \n",
              "4                     2.288   33        1  "
            ],
            "text/html": [
              "\n",
              "\n",
              "  <div id=\"df-d05c7714-3518-4b3a-b6f4-bc34ae541730\">\n",
              "    <div class=\"colab-df-container\">\n",
              "      <div>\n",
              "<style scoped>\n",
              "    .dataframe tbody tr th:only-of-type {\n",
              "        vertical-align: middle;\n",
              "    }\n",
              "\n",
              "    .dataframe tbody tr th {\n",
              "        vertical-align: top;\n",
              "    }\n",
              "\n",
              "    .dataframe thead th {\n",
              "        text-align: right;\n",
              "    }\n",
              "</style>\n",
              "<table border=\"1\" class=\"dataframe\">\n",
              "  <thead>\n",
              "    <tr style=\"text-align: right;\">\n",
              "      <th></th>\n",
              "      <th>Pregnancies</th>\n",
              "      <th>Glucose</th>\n",
              "      <th>BloodPressure</th>\n",
              "      <th>SkinThickness</th>\n",
              "      <th>Insulin</th>\n",
              "      <th>BMI</th>\n",
              "      <th>DiabetesPedigreeFunction</th>\n",
              "      <th>Age</th>\n",
              "      <th>Outcome</th>\n",
              "    </tr>\n",
              "  </thead>\n",
              "  <tbody>\n",
              "    <tr>\n",
              "      <th>0</th>\n",
              "      <td>6</td>\n",
              "      <td>148</td>\n",
              "      <td>72</td>\n",
              "      <td>35</td>\n",
              "      <td>0</td>\n",
              "      <td>33.6</td>\n",
              "      <td>0.627</td>\n",
              "      <td>50</td>\n",
              "      <td>1</td>\n",
              "    </tr>\n",
              "    <tr>\n",
              "      <th>1</th>\n",
              "      <td>1</td>\n",
              "      <td>85</td>\n",
              "      <td>66</td>\n",
              "      <td>29</td>\n",
              "      <td>0</td>\n",
              "      <td>26.6</td>\n",
              "      <td>0.351</td>\n",
              "      <td>31</td>\n",
              "      <td>0</td>\n",
              "    </tr>\n",
              "    <tr>\n",
              "      <th>2</th>\n",
              "      <td>8</td>\n",
              "      <td>183</td>\n",
              "      <td>64</td>\n",
              "      <td>0</td>\n",
              "      <td>0</td>\n",
              "      <td>23.3</td>\n",
              "      <td>0.672</td>\n",
              "      <td>32</td>\n",
              "      <td>1</td>\n",
              "    </tr>\n",
              "    <tr>\n",
              "      <th>3</th>\n",
              "      <td>1</td>\n",
              "      <td>89</td>\n",
              "      <td>66</td>\n",
              "      <td>23</td>\n",
              "      <td>94</td>\n",
              "      <td>28.1</td>\n",
              "      <td>0.167</td>\n",
              "      <td>21</td>\n",
              "      <td>0</td>\n",
              "    </tr>\n",
              "    <tr>\n",
              "      <th>4</th>\n",
              "      <td>0</td>\n",
              "      <td>137</td>\n",
              "      <td>40</td>\n",
              "      <td>35</td>\n",
              "      <td>168</td>\n",
              "      <td>43.1</td>\n",
              "      <td>2.288</td>\n",
              "      <td>33</td>\n",
              "      <td>1</td>\n",
              "    </tr>\n",
              "  </tbody>\n",
              "</table>\n",
              "</div>\n",
              "      <button class=\"colab-df-convert\" onclick=\"convertToInteractive('df-d05c7714-3518-4b3a-b6f4-bc34ae541730')\"\n",
              "              title=\"Convert this dataframe to an interactive table.\"\n",
              "              style=\"display:none;\">\n",
              "\n",
              "  <svg xmlns=\"http://www.w3.org/2000/svg\" height=\"24px\"viewBox=\"0 0 24 24\"\n",
              "       width=\"24px\">\n",
              "    <path d=\"M0 0h24v24H0V0z\" fill=\"none\"/>\n",
              "    <path d=\"M18.56 5.44l.94 2.06.94-2.06 2.06-.94-2.06-.94-.94-2.06-.94 2.06-2.06.94zm-11 1L8.5 8.5l.94-2.06 2.06-.94-2.06-.94L8.5 2.5l-.94 2.06-2.06.94zm10 10l.94 2.06.94-2.06 2.06-.94-2.06-.94-.94-2.06-.94 2.06-2.06.94z\"/><path d=\"M17.41 7.96l-1.37-1.37c-.4-.4-.92-.59-1.43-.59-.52 0-1.04.2-1.43.59L10.3 9.45l-7.72 7.72c-.78.78-.78 2.05 0 2.83L4 21.41c.39.39.9.59 1.41.59.51 0 1.02-.2 1.41-.59l7.78-7.78 2.81-2.81c.8-.78.8-2.07 0-2.86zM5.41 20L4 18.59l7.72-7.72 1.47 1.35L5.41 20z\"/>\n",
              "  </svg>\n",
              "      </button>\n",
              "\n",
              "\n",
              "\n",
              "    <div id=\"df-d53a8a57-574e-4c1c-8948-a7f5104fbdbb\">\n",
              "      <button class=\"colab-df-quickchart\" onclick=\"quickchart('df-d53a8a57-574e-4c1c-8948-a7f5104fbdbb')\"\n",
              "              title=\"Suggest charts.\"\n",
              "              style=\"display:none;\">\n",
              "\n",
              "<svg xmlns=\"http://www.w3.org/2000/svg\" height=\"24px\"viewBox=\"0 0 24 24\"\n",
              "     width=\"24px\">\n",
              "    <g>\n",
              "        <path d=\"M19 3H5c-1.1 0-2 .9-2 2v14c0 1.1.9 2 2 2h14c1.1 0 2-.9 2-2V5c0-1.1-.9-2-2-2zM9 17H7v-7h2v7zm4 0h-2V7h2v10zm4 0h-2v-4h2v4z\"/>\n",
              "    </g>\n",
              "</svg>\n",
              "      </button>\n",
              "    </div>\n",
              "\n",
              "<style>\n",
              "  .colab-df-quickchart {\n",
              "    background-color: #E8F0FE;\n",
              "    border: none;\n",
              "    border-radius: 50%;\n",
              "    cursor: pointer;\n",
              "    display: none;\n",
              "    fill: #1967D2;\n",
              "    height: 32px;\n",
              "    padding: 0 0 0 0;\n",
              "    width: 32px;\n",
              "  }\n",
              "\n",
              "  .colab-df-quickchart:hover {\n",
              "    background-color: #E2EBFA;\n",
              "    box-shadow: 0px 1px 2px rgba(60, 64, 67, 0.3), 0px 1px 3px 1px rgba(60, 64, 67, 0.15);\n",
              "    fill: #174EA6;\n",
              "  }\n",
              "\n",
              "  [theme=dark] .colab-df-quickchart {\n",
              "    background-color: #3B4455;\n",
              "    fill: #D2E3FC;\n",
              "  }\n",
              "\n",
              "  [theme=dark] .colab-df-quickchart:hover {\n",
              "    background-color: #434B5C;\n",
              "    box-shadow: 0px 1px 3px 1px rgba(0, 0, 0, 0.15);\n",
              "    filter: drop-shadow(0px 1px 2px rgba(0, 0, 0, 0.3));\n",
              "    fill: #FFFFFF;\n",
              "  }\n",
              "</style>\n",
              "\n",
              "    <script>\n",
              "      async function quickchart(key) {\n",
              "        const containerElement = document.querySelector('#' + key);\n",
              "        const charts = await google.colab.kernel.invokeFunction(\n",
              "            'suggestCharts', [key], {});\n",
              "      }\n",
              "    </script>\n",
              "\n",
              "      <script>\n",
              "\n",
              "function displayQuickchartButton(domScope) {\n",
              "  let quickchartButtonEl =\n",
              "    domScope.querySelector('#df-d53a8a57-574e-4c1c-8948-a7f5104fbdbb button.colab-df-quickchart');\n",
              "  quickchartButtonEl.style.display =\n",
              "    google.colab.kernel.accessAllowed ? 'block' : 'none';\n",
              "}\n",
              "\n",
              "        displayQuickchartButton(document);\n",
              "      </script>\n",
              "      <style>\n",
              "    .colab-df-container {\n",
              "      display:flex;\n",
              "      flex-wrap:wrap;\n",
              "      gap: 12px;\n",
              "    }\n",
              "\n",
              "    .colab-df-convert {\n",
              "      background-color: #E8F0FE;\n",
              "      border: none;\n",
              "      border-radius: 50%;\n",
              "      cursor: pointer;\n",
              "      display: none;\n",
              "      fill: #1967D2;\n",
              "      height: 32px;\n",
              "      padding: 0 0 0 0;\n",
              "      width: 32px;\n",
              "    }\n",
              "\n",
              "    .colab-df-convert:hover {\n",
              "      background-color: #E2EBFA;\n",
              "      box-shadow: 0px 1px 2px rgba(60, 64, 67, 0.3), 0px 1px 3px 1px rgba(60, 64, 67, 0.15);\n",
              "      fill: #174EA6;\n",
              "    }\n",
              "\n",
              "    [theme=dark] .colab-df-convert {\n",
              "      background-color: #3B4455;\n",
              "      fill: #D2E3FC;\n",
              "    }\n",
              "\n",
              "    [theme=dark] .colab-df-convert:hover {\n",
              "      background-color: #434B5C;\n",
              "      box-shadow: 0px 1px 3px 1px rgba(0, 0, 0, 0.15);\n",
              "      filter: drop-shadow(0px 1px 2px rgba(0, 0, 0, 0.3));\n",
              "      fill: #FFFFFF;\n",
              "    }\n",
              "  </style>\n",
              "\n",
              "      <script>\n",
              "        const buttonEl =\n",
              "          document.querySelector('#df-d05c7714-3518-4b3a-b6f4-bc34ae541730 button.colab-df-convert');\n",
              "        buttonEl.style.display =\n",
              "          google.colab.kernel.accessAllowed ? 'block' : 'none';\n",
              "\n",
              "        async function convertToInteractive(key) {\n",
              "          const element = document.querySelector('#df-d05c7714-3518-4b3a-b6f4-bc34ae541730');\n",
              "          const dataTable =\n",
              "            await google.colab.kernel.invokeFunction('convertToInteractive',\n",
              "                                                     [key], {});\n",
              "          if (!dataTable) return;\n",
              "\n",
              "          const docLinkHtml = 'Like what you see? Visit the ' +\n",
              "            '<a target=\"_blank\" href=https://colab.research.google.com/notebooks/data_table.ipynb>data table notebook</a>'\n",
              "            + ' to learn more about interactive tables.';\n",
              "          element.innerHTML = '';\n",
              "          dataTable['output_type'] = 'display_data';\n",
              "          await google.colab.output.renderOutput(dataTable, element);\n",
              "          const docLink = document.createElement('div');\n",
              "          docLink.innerHTML = docLinkHtml;\n",
              "          element.appendChild(docLink);\n",
              "        }\n",
              "      </script>\n",
              "    </div>\n",
              "  </div>\n"
            ]
          },
          "metadata": {},
          "execution_count": 45
        }
      ]
    },
    {
      "cell_type": "code",
      "source": [
        "df.info()"
      ],
      "metadata": {
        "colab": {
          "base_uri": "https://localhost:8080/"
        },
        "id": "zCSvWOQKQ93N",
        "outputId": "c55d510f-11a0-4f2d-915a-2d7019deea87"
      },
      "execution_count": 46,
      "outputs": [
        {
          "output_type": "stream",
          "name": "stdout",
          "text": [
            "<class 'pandas.core.frame.DataFrame'>\n",
            "RangeIndex: 768 entries, 0 to 767\n",
            "Data columns (total 9 columns):\n",
            " #   Column                    Non-Null Count  Dtype  \n",
            "---  ------                    --------------  -----  \n",
            " 0   Pregnancies               768 non-null    int64  \n",
            " 1   Glucose                   768 non-null    int64  \n",
            " 2   BloodPressure             768 non-null    int64  \n",
            " 3   SkinThickness             768 non-null    int64  \n",
            " 4   Insulin                   768 non-null    int64  \n",
            " 5   BMI                       768 non-null    float64\n",
            " 6   DiabetesPedigreeFunction  768 non-null    float64\n",
            " 7   Age                       768 non-null    int64  \n",
            " 8   Outcome                   768 non-null    int64  \n",
            "dtypes: float64(2), int64(7)\n",
            "memory usage: 54.1 KB\n"
          ]
        }
      ]
    },
    {
      "cell_type": "code",
      "source": [
        "df.isnull().sum()"
      ],
      "metadata": {
        "colab": {
          "base_uri": "https://localhost:8080/"
        },
        "id": "p7gekmqNQ_1k",
        "outputId": "0d3a89b4-b237-48a8-ce81-5a2b16d6d3c5"
      },
      "execution_count": 47,
      "outputs": [
        {
          "output_type": "execute_result",
          "data": {
            "text/plain": [
              "Pregnancies                 0\n",
              "Glucose                     0\n",
              "BloodPressure               0\n",
              "SkinThickness               0\n",
              "Insulin                     0\n",
              "BMI                         0\n",
              "DiabetesPedigreeFunction    0\n",
              "Age                         0\n",
              "Outcome                     0\n",
              "dtype: int64"
            ]
          },
          "metadata": {},
          "execution_count": 47
        }
      ]
    },
    {
      "cell_type": "code",
      "source": [
        "# finding the correlation between the output and the other columns\n",
        "df.corr()['Outcome']"
      ],
      "metadata": {
        "colab": {
          "base_uri": "https://localhost:8080/"
        },
        "id": "Bt-hP9TNRhLP",
        "outputId": "156260f7-d99b-4f50-e2ac-ec81c85ebf42"
      },
      "execution_count": 48,
      "outputs": [
        {
          "output_type": "execute_result",
          "data": {
            "text/plain": [
              "Pregnancies                 0.221898\n",
              "Glucose                     0.466581\n",
              "BloodPressure               0.065068\n",
              "SkinThickness               0.074752\n",
              "Insulin                     0.130548\n",
              "BMI                         0.292695\n",
              "DiabetesPedigreeFunction    0.173844\n",
              "Age                         0.238356\n",
              "Outcome                     1.000000\n",
              "Name: Outcome, dtype: float64"
            ]
          },
          "metadata": {},
          "execution_count": 48
        }
      ]
    },
    {
      "cell_type": "code",
      "source": [
        "# Spliting the data\n",
        "X =df.iloc[:,:-1].values\n",
        "Y = df.iloc[:,-1].values"
      ],
      "metadata": {
        "id": "PXuKe3wkR9Si"
      },
      "execution_count": 49,
      "outputs": []
    },
    {
      "cell_type": "code",
      "source": [
        "#Scaling the dataset\n",
        "from sklearn.preprocessing import StandardScaler\n",
        "\n",
        "scaler=StandardScaler()\n"
      ],
      "metadata": {
        "id": "KriVU-hESok4"
      },
      "execution_count": 50,
      "outputs": []
    },
    {
      "cell_type": "code",
      "source": [
        "X= scaler.fit_transform(X)"
      ],
      "metadata": {
        "id": "mnzb50PYTKhv"
      },
      "execution_count": 51,
      "outputs": []
    },
    {
      "cell_type": "code",
      "source": [
        "X"
      ],
      "metadata": {
        "colab": {
          "base_uri": "https://localhost:8080/"
        },
        "id": "sc7OAkvpTShv",
        "outputId": "88a3ac8f-3a34-4b80-9f88-55b5f2229184"
      },
      "execution_count": 52,
      "outputs": [
        {
          "output_type": "execute_result",
          "data": {
            "text/plain": [
              "array([[ 0.63994726,  0.84832379,  0.14964075, ...,  0.20401277,\n",
              "         0.46849198,  1.4259954 ],\n",
              "       [-0.84488505, -1.12339636, -0.16054575, ..., -0.68442195,\n",
              "        -0.36506078, -0.19067191],\n",
              "       [ 1.23388019,  1.94372388, -0.26394125, ..., -1.10325546,\n",
              "         0.60439732, -0.10558415],\n",
              "       ...,\n",
              "       [ 0.3429808 ,  0.00330087,  0.14964075, ..., -0.73518964,\n",
              "        -0.68519336, -0.27575966],\n",
              "       [-0.84488505,  0.1597866 , -0.47073225, ..., -0.24020459,\n",
              "        -0.37110101,  1.17073215],\n",
              "       [-0.84488505, -0.8730192 ,  0.04624525, ..., -0.20212881,\n",
              "        -0.47378505, -0.87137393]])"
            ]
          },
          "metadata": {},
          "execution_count": 52
        }
      ]
    },
    {
      "cell_type": "code",
      "source": [
        "from sklearn.model_selection import train_test_split\n",
        "\n",
        "x_train,x_test,y_train,y_test=train_test_split(X,Y, test_size=.2,random_state=1)"
      ],
      "metadata": {
        "id": "5MvNHUOxTWM4"
      },
      "execution_count": 53,
      "outputs": []
    },
    {
      "cell_type": "code",
      "source": [
        "import tensorflow as tf\n",
        "from tensorflow import keras\n",
        "from keras import Sequential\n",
        "from keras.layers import Dense"
      ],
      "metadata": {
        "id": "UH2LmwYaT0lx"
      },
      "execution_count": 54,
      "outputs": []
    },
    {
      "cell_type": "code",
      "source": [
        "pip install -U keras-tuner"
      ],
      "metadata": {
        "colab": {
          "base_uri": "https://localhost:8080/"
        },
        "id": "ONZMdjsoUVti",
        "outputId": "99fef45e-22ca-4dc3-e351-adacaaa685c5"
      },
      "execution_count": 55,
      "outputs": [
        {
          "output_type": "stream",
          "name": "stdout",
          "text": [
            "Requirement already satisfied: keras-tuner in /usr/local/lib/python3.10/dist-packages (1.3.5)\n",
            "Requirement already satisfied: packaging in /usr/local/lib/python3.10/dist-packages (from keras-tuner) (23.1)\n",
            "Requirement already satisfied: requests in /usr/local/lib/python3.10/dist-packages (from keras-tuner) (2.27.1)\n",
            "Requirement already satisfied: kt-legacy in /usr/local/lib/python3.10/dist-packages (from keras-tuner) (1.0.5)\n",
            "Requirement already satisfied: urllib3<1.27,>=1.21.1 in /usr/local/lib/python3.10/dist-packages (from requests->keras-tuner) (1.26.16)\n",
            "Requirement already satisfied: certifi>=2017.4.17 in /usr/local/lib/python3.10/dist-packages (from requests->keras-tuner) (2023.5.7)\n",
            "Requirement already satisfied: charset-normalizer~=2.0.0 in /usr/local/lib/python3.10/dist-packages (from requests->keras-tuner) (2.0.12)\n",
            "Requirement already satisfied: idna<4,>=2.5 in /usr/local/lib/python3.10/dist-packages (from requests->keras-tuner) (3.4)\n"
          ]
        }
      ]
    },
    {
      "cell_type": "code",
      "source": [
        "import kerastuner as kt"
      ],
      "metadata": {
        "id": "FQYIwtQfWl7v"
      },
      "execution_count": 56,
      "outputs": []
    },
    {
      "cell_type": "code",
      "source": [
        "# for hyperparameter tuning we have to build function\n",
        "# using this for optimizer selection\n",
        "def build_model(hp):\n",
        "  model = Sequential()\n",
        "  model.add(Dense(32,activation='relu',input_dim=8)),\n",
        "  model.add(Dense(1,activation='sigmoid'))\n",
        "\n",
        "  optimizer=hp.Choice('optimizer',values=['adam','sgd','adadelta','rmsprop'])\n",
        "\n",
        "  model.compile(optimizer=optimizer,loss='binary_crossentropy',metrics=['accuracy'])\n",
        "\n",
        "  return model"
      ],
      "metadata": {
        "id": "fRmHRVxnWzxr"
      },
      "execution_count": 57,
      "outputs": []
    },
    {
      "cell_type": "code",
      "source": [
        "tuner=kt.RandomSearch(\n",
        "                build_model,\n",
        "                objective='val_accuracy',\n",
        "                max_trials=5,\n",
        "\n",
        ")\n",
        "\n",
        "# this is the creation of tuner object"
      ],
      "metadata": {
        "id": "zB64G3W3Afs5"
      },
      "execution_count": 58,
      "outputs": []
    },
    {
      "cell_type": "code",
      "source": [
        "tuner.search(x_train,y_train,epochs=5,validation_data=(x_test,y_test))"
      ],
      "metadata": {
        "id": "kIGghi9GA8gU"
      },
      "execution_count": 59,
      "outputs": []
    },
    {
      "cell_type": "code",
      "source": [
        "tuner.get_best_hyperparameters()[0].values"
      ],
      "metadata": {
        "colab": {
          "base_uri": "https://localhost:8080/"
        },
        "id": "5kSdcIRZBazr",
        "outputId": "2231a425-c78a-4bf5-a818-b8c81c5f13fc"
      },
      "execution_count": 60,
      "outputs": [
        {
          "output_type": "execute_result",
          "data": {
            "text/plain": [
              "{'optimizer': 'rmsprop'}"
            ]
          },
          "metadata": {},
          "execution_count": 60
        }
      ]
    },
    {
      "cell_type": "code",
      "source": [
        "# now for no. of neurons\n",
        "def build_model(hp):\n",
        "\n",
        "  model=Sequential()\n",
        "  units = hp.Int('units',min_value=8,max_value=128,step=8)\n",
        "  model.add(Dense(units=units,activation='relu',input_dim=8)),\n",
        "  model.add(Dense(1,activation='sigmoid'))\n",
        "\n",
        "  model.compile(optimizer='rmsprop',loss='binary_crossentropy',metrics=['accuracy'])\n",
        "  return model\n"
      ],
      "metadata": {
        "id": "_OharKcVCU5W"
      },
      "execution_count": 61,
      "outputs": []
    },
    {
      "cell_type": "code",
      "source": [
        "tuner = kt.RandomSearch(\n",
        "    build_model,\n",
        "    objective='val_accuracy',\n",
        "    max_trials=5,\n",
        "    directory='my_dir',\n",
        "    project_name='diabetes'\n",
        ")"
      ],
      "metadata": {
        "id": "jtNuJmCnOHFF"
      },
      "execution_count": 62,
      "outputs": []
    },
    {
      "cell_type": "code",
      "source": [
        "tuner.search(x_train,y_train,epochs=5,validation_data=(x_test,y_test))"
      ],
      "metadata": {
        "id": "JYQSbXZOTfiG"
      },
      "execution_count": 63,
      "outputs": []
    },
    {
      "cell_type": "code",
      "source": [
        "tuner.get_best_hyperparameters()[0].values"
      ],
      "metadata": {
        "colab": {
          "base_uri": "https://localhost:8080/"
        },
        "id": "FzxQWnkMsoE7",
        "outputId": "d7246c5c-86c9-4def-af8c-d763d6ac225b"
      },
      "execution_count": 64,
      "outputs": [
        {
          "output_type": "execute_result",
          "data": {
            "text/plain": [
              "{'units': 72}"
            ]
          },
          "metadata": {},
          "execution_count": 64
        }
      ]
    },
    {
      "cell_type": "code",
      "source": [
        "model = tuner.get_best_models(num_models=1)[0]"
      ],
      "metadata": {
        "id": "XS12B6ULtEHj"
      },
      "execution_count": 66,
      "outputs": []
    },
    {
      "cell_type": "code",
      "source": [
        "model.fit(x_train,y_train,batch_size=32,epochs=100,validation_data=(x_test,y_test),initial_epoch=6)"
      ],
      "metadata": {
        "colab": {
          "base_uri": "https://localhost:8080/"
        },
        "id": "Ti42ICN5uDPj",
        "outputId": "abe96b28-b547-4b0d-9381-89dee2f16f22"
      },
      "execution_count": 67,
      "outputs": [
        {
          "output_type": "stream",
          "name": "stdout",
          "text": [
            "Epoch 7/100\n",
            "20/20 [==============================] - 1s 8ms/step - loss: 0.4854 - accuracy: 0.7622 - val_loss: 0.4757 - val_accuracy: 0.8117\n",
            "Epoch 8/100\n",
            "20/20 [==============================] - 0s 3ms/step - loss: 0.4754 - accuracy: 0.7687 - val_loss: 0.4698 - val_accuracy: 0.7922\n",
            "Epoch 9/100\n",
            "20/20 [==============================] - 0s 3ms/step - loss: 0.4683 - accuracy: 0.7704 - val_loss: 0.4653 - val_accuracy: 0.7922\n",
            "Epoch 10/100\n",
            "20/20 [==============================] - 0s 2ms/step - loss: 0.4632 - accuracy: 0.7720 - val_loss: 0.4635 - val_accuracy: 0.8052\n",
            "Epoch 11/100\n",
            "20/20 [==============================] - 0s 2ms/step - loss: 0.4590 - accuracy: 0.7752 - val_loss: 0.4627 - val_accuracy: 0.8052\n",
            "Epoch 12/100\n",
            "20/20 [==============================] - 0s 4ms/step - loss: 0.4562 - accuracy: 0.7736 - val_loss: 0.4620 - val_accuracy: 0.8052\n",
            "Epoch 13/100\n",
            "20/20 [==============================] - 0s 4ms/step - loss: 0.4536 - accuracy: 0.7736 - val_loss: 0.4624 - val_accuracy: 0.8052\n",
            "Epoch 14/100\n",
            "20/20 [==============================] - 0s 4ms/step - loss: 0.4509 - accuracy: 0.7769 - val_loss: 0.4616 - val_accuracy: 0.8117\n",
            "Epoch 15/100\n",
            "20/20 [==============================] - 0s 4ms/step - loss: 0.4500 - accuracy: 0.7720 - val_loss: 0.4604 - val_accuracy: 0.8117\n",
            "Epoch 16/100\n",
            "20/20 [==============================] - 0s 4ms/step - loss: 0.4482 - accuracy: 0.7801 - val_loss: 0.4598 - val_accuracy: 0.8117\n",
            "Epoch 17/100\n",
            "20/20 [==============================] - 0s 4ms/step - loss: 0.4464 - accuracy: 0.7769 - val_loss: 0.4617 - val_accuracy: 0.8117\n",
            "Epoch 18/100\n",
            "20/20 [==============================] - 0s 3ms/step - loss: 0.4458 - accuracy: 0.7785 - val_loss: 0.4634 - val_accuracy: 0.8117\n",
            "Epoch 19/100\n",
            "20/20 [==============================] - 0s 3ms/step - loss: 0.4442 - accuracy: 0.7785 - val_loss: 0.4614 - val_accuracy: 0.7987\n",
            "Epoch 20/100\n",
            "20/20 [==============================] - 0s 4ms/step - loss: 0.4437 - accuracy: 0.7818 - val_loss: 0.4617 - val_accuracy: 0.8052\n",
            "Epoch 21/100\n",
            "20/20 [==============================] - 0s 3ms/step - loss: 0.4426 - accuracy: 0.7769 - val_loss: 0.4613 - val_accuracy: 0.7987\n",
            "Epoch 22/100\n",
            "20/20 [==============================] - 0s 4ms/step - loss: 0.4422 - accuracy: 0.7801 - val_loss: 0.4611 - val_accuracy: 0.7987\n",
            "Epoch 23/100\n",
            "20/20 [==============================] - 0s 3ms/step - loss: 0.4411 - accuracy: 0.7818 - val_loss: 0.4599 - val_accuracy: 0.7987\n",
            "Epoch 24/100\n",
            "20/20 [==============================] - 0s 3ms/step - loss: 0.4396 - accuracy: 0.7818 - val_loss: 0.4600 - val_accuracy: 0.7922\n",
            "Epoch 25/100\n",
            "20/20 [==============================] - 0s 3ms/step - loss: 0.4385 - accuracy: 0.7883 - val_loss: 0.4611 - val_accuracy: 0.7987\n",
            "Epoch 26/100\n",
            "20/20 [==============================] - 0s 3ms/step - loss: 0.4381 - accuracy: 0.7866 - val_loss: 0.4606 - val_accuracy: 0.7922\n",
            "Epoch 27/100\n",
            "20/20 [==============================] - 0s 4ms/step - loss: 0.4372 - accuracy: 0.7915 - val_loss: 0.4604 - val_accuracy: 0.7922\n",
            "Epoch 28/100\n",
            "20/20 [==============================] - 0s 3ms/step - loss: 0.4366 - accuracy: 0.7883 - val_loss: 0.4615 - val_accuracy: 0.7987\n",
            "Epoch 29/100\n",
            "20/20 [==============================] - 0s 3ms/step - loss: 0.4357 - accuracy: 0.7866 - val_loss: 0.4626 - val_accuracy: 0.8052\n",
            "Epoch 30/100\n",
            "20/20 [==============================] - 0s 4ms/step - loss: 0.4347 - accuracy: 0.7883 - val_loss: 0.4615 - val_accuracy: 0.7987\n",
            "Epoch 31/100\n",
            "20/20 [==============================] - 0s 4ms/step - loss: 0.4344 - accuracy: 0.7850 - val_loss: 0.4606 - val_accuracy: 0.7987\n",
            "Epoch 32/100\n",
            "20/20 [==============================] - 0s 3ms/step - loss: 0.4336 - accuracy: 0.7899 - val_loss: 0.4621 - val_accuracy: 0.7987\n",
            "Epoch 33/100\n",
            "20/20 [==============================] - 0s 4ms/step - loss: 0.4326 - accuracy: 0.7883 - val_loss: 0.4626 - val_accuracy: 0.8052\n",
            "Epoch 34/100\n",
            "20/20 [==============================] - 0s 3ms/step - loss: 0.4325 - accuracy: 0.7915 - val_loss: 0.4630 - val_accuracy: 0.7987\n",
            "Epoch 35/100\n",
            "20/20 [==============================] - 0s 4ms/step - loss: 0.4310 - accuracy: 0.7964 - val_loss: 0.4638 - val_accuracy: 0.7987\n",
            "Epoch 36/100\n",
            "20/20 [==============================] - 0s 4ms/step - loss: 0.4309 - accuracy: 0.7948 - val_loss: 0.4643 - val_accuracy: 0.7987\n",
            "Epoch 37/100\n",
            "20/20 [==============================] - 0s 3ms/step - loss: 0.4301 - accuracy: 0.7866 - val_loss: 0.4640 - val_accuracy: 0.7987\n",
            "Epoch 38/100\n",
            "20/20 [==============================] - 0s 3ms/step - loss: 0.4299 - accuracy: 0.7899 - val_loss: 0.4638 - val_accuracy: 0.8052\n",
            "Epoch 39/100\n",
            "20/20 [==============================] - 0s 3ms/step - loss: 0.4286 - accuracy: 0.7997 - val_loss: 0.4623 - val_accuracy: 0.7987\n",
            "Epoch 40/100\n",
            "20/20 [==============================] - 0s 3ms/step - loss: 0.4283 - accuracy: 0.7948 - val_loss: 0.4628 - val_accuracy: 0.7987\n",
            "Epoch 41/100\n",
            "20/20 [==============================] - 0s 3ms/step - loss: 0.4281 - accuracy: 0.7980 - val_loss: 0.4650 - val_accuracy: 0.7987\n",
            "Epoch 42/100\n",
            "20/20 [==============================] - 0s 2ms/step - loss: 0.4267 - accuracy: 0.7899 - val_loss: 0.4648 - val_accuracy: 0.7987\n",
            "Epoch 43/100\n",
            "20/20 [==============================] - 0s 3ms/step - loss: 0.4266 - accuracy: 0.7899 - val_loss: 0.4636 - val_accuracy: 0.7987\n",
            "Epoch 44/100\n",
            "20/20 [==============================] - 0s 2ms/step - loss: 0.4262 - accuracy: 0.7915 - val_loss: 0.4629 - val_accuracy: 0.8052\n",
            "Epoch 45/100\n",
            "20/20 [==============================] - 0s 3ms/step - loss: 0.4254 - accuracy: 0.7948 - val_loss: 0.4639 - val_accuracy: 0.7987\n",
            "Epoch 46/100\n",
            "20/20 [==============================] - 0s 2ms/step - loss: 0.4253 - accuracy: 0.7915 - val_loss: 0.4632 - val_accuracy: 0.8052\n",
            "Epoch 47/100\n",
            "20/20 [==============================] - 0s 2ms/step - loss: 0.4246 - accuracy: 0.7850 - val_loss: 0.4639 - val_accuracy: 0.8117\n",
            "Epoch 48/100\n",
            "20/20 [==============================] - 0s 4ms/step - loss: 0.4242 - accuracy: 0.7964 - val_loss: 0.4644 - val_accuracy: 0.8117\n",
            "Epoch 49/100\n",
            "20/20 [==============================] - 0s 3ms/step - loss: 0.4234 - accuracy: 0.7980 - val_loss: 0.4634 - val_accuracy: 0.8117\n",
            "Epoch 50/100\n",
            "20/20 [==============================] - 0s 3ms/step - loss: 0.4230 - accuracy: 0.7997 - val_loss: 0.4638 - val_accuracy: 0.8117\n",
            "Epoch 51/100\n",
            "20/20 [==============================] - 0s 2ms/step - loss: 0.4230 - accuracy: 0.7997 - val_loss: 0.4638 - val_accuracy: 0.8117\n",
            "Epoch 52/100\n",
            "20/20 [==============================] - 0s 3ms/step - loss: 0.4222 - accuracy: 0.8029 - val_loss: 0.4633 - val_accuracy: 0.8117\n",
            "Epoch 53/100\n",
            "20/20 [==============================] - 0s 2ms/step - loss: 0.4212 - accuracy: 0.7980 - val_loss: 0.4641 - val_accuracy: 0.8117\n",
            "Epoch 54/100\n",
            "20/20 [==============================] - 0s 2ms/step - loss: 0.4209 - accuracy: 0.7997 - val_loss: 0.4642 - val_accuracy: 0.8117\n",
            "Epoch 55/100\n",
            "20/20 [==============================] - 0s 2ms/step - loss: 0.4202 - accuracy: 0.8062 - val_loss: 0.4655 - val_accuracy: 0.8052\n",
            "Epoch 56/100\n",
            "20/20 [==============================] - 0s 2ms/step - loss: 0.4200 - accuracy: 0.8029 - val_loss: 0.4651 - val_accuracy: 0.8117\n",
            "Epoch 57/100\n",
            "20/20 [==============================] - 0s 3ms/step - loss: 0.4199 - accuracy: 0.8013 - val_loss: 0.4651 - val_accuracy: 0.8052\n",
            "Epoch 58/100\n",
            "20/20 [==============================] - 0s 3ms/step - loss: 0.4189 - accuracy: 0.8029 - val_loss: 0.4650 - val_accuracy: 0.7987\n",
            "Epoch 59/100\n",
            "20/20 [==============================] - 0s 3ms/step - loss: 0.4187 - accuracy: 0.8013 - val_loss: 0.4639 - val_accuracy: 0.8117\n",
            "Epoch 60/100\n",
            "20/20 [==============================] - 0s 3ms/step - loss: 0.4186 - accuracy: 0.7964 - val_loss: 0.4649 - val_accuracy: 0.8117\n",
            "Epoch 61/100\n",
            "20/20 [==============================] - 0s 3ms/step - loss: 0.4176 - accuracy: 0.8046 - val_loss: 0.4661 - val_accuracy: 0.8117\n",
            "Epoch 62/100\n",
            "20/20 [==============================] - 0s 2ms/step - loss: 0.4172 - accuracy: 0.8094 - val_loss: 0.4658 - val_accuracy: 0.8182\n",
            "Epoch 63/100\n",
            "20/20 [==============================] - 0s 3ms/step - loss: 0.4167 - accuracy: 0.8078 - val_loss: 0.4654 - val_accuracy: 0.8052\n",
            "Epoch 64/100\n",
            "20/20 [==============================] - 0s 3ms/step - loss: 0.4162 - accuracy: 0.7964 - val_loss: 0.4662 - val_accuracy: 0.8117\n",
            "Epoch 65/100\n",
            "20/20 [==============================] - 0s 2ms/step - loss: 0.4162 - accuracy: 0.8013 - val_loss: 0.4667 - val_accuracy: 0.8182\n",
            "Epoch 66/100\n",
            "20/20 [==============================] - 0s 3ms/step - loss: 0.4155 - accuracy: 0.8046 - val_loss: 0.4674 - val_accuracy: 0.8117\n",
            "Epoch 67/100\n",
            "20/20 [==============================] - 0s 3ms/step - loss: 0.4149 - accuracy: 0.8062 - val_loss: 0.4659 - val_accuracy: 0.8182\n",
            "Epoch 68/100\n",
            "20/20 [==============================] - 0s 2ms/step - loss: 0.4146 - accuracy: 0.8046 - val_loss: 0.4649 - val_accuracy: 0.8182\n",
            "Epoch 69/100\n",
            "20/20 [==============================] - 0s 2ms/step - loss: 0.4149 - accuracy: 0.8046 - val_loss: 0.4667 - val_accuracy: 0.8182\n",
            "Epoch 70/100\n",
            "20/20 [==============================] - 0s 2ms/step - loss: 0.4136 - accuracy: 0.8062 - val_loss: 0.4679 - val_accuracy: 0.8117\n",
            "Epoch 71/100\n",
            "20/20 [==============================] - 0s 3ms/step - loss: 0.4136 - accuracy: 0.8029 - val_loss: 0.4690 - val_accuracy: 0.8052\n",
            "Epoch 72/100\n",
            "20/20 [==============================] - 0s 2ms/step - loss: 0.4133 - accuracy: 0.8111 - val_loss: 0.4679 - val_accuracy: 0.8117\n",
            "Epoch 73/100\n",
            "20/20 [==============================] - 0s 2ms/step - loss: 0.4129 - accuracy: 0.8013 - val_loss: 0.4648 - val_accuracy: 0.8117\n",
            "Epoch 74/100\n",
            "20/20 [==============================] - 0s 3ms/step - loss: 0.4122 - accuracy: 0.8046 - val_loss: 0.4650 - val_accuracy: 0.8182\n",
            "Epoch 75/100\n",
            "20/20 [==============================] - 0s 2ms/step - loss: 0.4118 - accuracy: 0.8078 - val_loss: 0.4675 - val_accuracy: 0.8247\n",
            "Epoch 76/100\n",
            "20/20 [==============================] - 0s 2ms/step - loss: 0.4113 - accuracy: 0.8111 - val_loss: 0.4672 - val_accuracy: 0.8117\n",
            "Epoch 77/100\n",
            "20/20 [==============================] - 0s 3ms/step - loss: 0.4112 - accuracy: 0.8094 - val_loss: 0.4686 - val_accuracy: 0.8117\n",
            "Epoch 78/100\n",
            "20/20 [==============================] - 0s 3ms/step - loss: 0.4115 - accuracy: 0.8143 - val_loss: 0.4680 - val_accuracy: 0.8247\n",
            "Epoch 79/100\n",
            "20/20 [==============================] - 0s 2ms/step - loss: 0.4096 - accuracy: 0.8127 - val_loss: 0.4665 - val_accuracy: 0.8247\n",
            "Epoch 80/100\n",
            "20/20 [==============================] - 0s 3ms/step - loss: 0.4102 - accuracy: 0.8111 - val_loss: 0.4668 - val_accuracy: 0.8182\n",
            "Epoch 81/100\n",
            "20/20 [==============================] - 0s 3ms/step - loss: 0.4104 - accuracy: 0.8160 - val_loss: 0.4665 - val_accuracy: 0.8117\n",
            "Epoch 82/100\n",
            "20/20 [==============================] - 0s 3ms/step - loss: 0.4090 - accuracy: 0.8111 - val_loss: 0.4663 - val_accuracy: 0.8182\n",
            "Epoch 83/100\n",
            "20/20 [==============================] - 0s 2ms/step - loss: 0.4089 - accuracy: 0.8192 - val_loss: 0.4655 - val_accuracy: 0.8247\n",
            "Epoch 84/100\n",
            "20/20 [==============================] - 0s 2ms/step - loss: 0.4084 - accuracy: 0.8160 - val_loss: 0.4669 - val_accuracy: 0.8182\n",
            "Epoch 85/100\n",
            "20/20 [==============================] - 0s 3ms/step - loss: 0.4081 - accuracy: 0.8160 - val_loss: 0.4678 - val_accuracy: 0.8247\n",
            "Epoch 86/100\n",
            "20/20 [==============================] - 0s 3ms/step - loss: 0.4077 - accuracy: 0.8208 - val_loss: 0.4658 - val_accuracy: 0.8182\n",
            "Epoch 87/100\n",
            "20/20 [==============================] - 0s 2ms/step - loss: 0.4075 - accuracy: 0.8176 - val_loss: 0.4675 - val_accuracy: 0.8117\n",
            "Epoch 88/100\n",
            "20/20 [==============================] - 0s 3ms/step - loss: 0.4071 - accuracy: 0.8078 - val_loss: 0.4659 - val_accuracy: 0.8182\n",
            "Epoch 89/100\n",
            "20/20 [==============================] - 0s 3ms/step - loss: 0.4065 - accuracy: 0.8160 - val_loss: 0.4663 - val_accuracy: 0.8117\n",
            "Epoch 90/100\n",
            "20/20 [==============================] - 0s 2ms/step - loss: 0.4067 - accuracy: 0.8111 - val_loss: 0.4661 - val_accuracy: 0.8117\n",
            "Epoch 91/100\n",
            "20/20 [==============================] - 0s 2ms/step - loss: 0.4059 - accuracy: 0.8160 - val_loss: 0.4666 - val_accuracy: 0.8117\n",
            "Epoch 92/100\n",
            "20/20 [==============================] - 0s 2ms/step - loss: 0.4052 - accuracy: 0.8192 - val_loss: 0.4667 - val_accuracy: 0.8247\n",
            "Epoch 93/100\n",
            "20/20 [==============================] - 0s 3ms/step - loss: 0.4051 - accuracy: 0.8127 - val_loss: 0.4661 - val_accuracy: 0.8247\n",
            "Epoch 94/100\n",
            "20/20 [==============================] - 0s 3ms/step - loss: 0.4052 - accuracy: 0.8192 - val_loss: 0.4667 - val_accuracy: 0.8247\n",
            "Epoch 95/100\n",
            "20/20 [==============================] - 0s 2ms/step - loss: 0.4047 - accuracy: 0.8176 - val_loss: 0.4667 - val_accuracy: 0.8247\n",
            "Epoch 96/100\n",
            "20/20 [==============================] - 0s 3ms/step - loss: 0.4044 - accuracy: 0.8192 - val_loss: 0.4656 - val_accuracy: 0.8182\n",
            "Epoch 97/100\n",
            "20/20 [==============================] - 0s 2ms/step - loss: 0.4043 - accuracy: 0.8176 - val_loss: 0.4656 - val_accuracy: 0.8182\n",
            "Epoch 98/100\n",
            "20/20 [==============================] - 0s 3ms/step - loss: 0.4038 - accuracy: 0.8160 - val_loss: 0.4664 - val_accuracy: 0.8117\n",
            "Epoch 99/100\n",
            "20/20 [==============================] - 0s 3ms/step - loss: 0.4033 - accuracy: 0.8143 - val_loss: 0.4670 - val_accuracy: 0.8117\n",
            "Epoch 100/100\n",
            "20/20 [==============================] - 0s 3ms/step - loss: 0.4033 - accuracy: 0.8160 - val_loss: 0.4674 - val_accuracy: 0.8117\n"
          ]
        },
        {
          "output_type": "execute_result",
          "data": {
            "text/plain": [
              "<keras.callbacks.History at 0x7e7f9fb2c8e0>"
            ]
          },
          "metadata": {},
          "execution_count": 67
        }
      ]
    },
    {
      "cell_type": "code",
      "source": [
        "# hypertuning for how to select no of layers\n",
        "\n",
        "def build_model(hp):\n",
        "\n",
        "  model=Sequential()\n",
        "\n",
        "  model.add(Dense(72, activation='relu',input_dim=8)) # Input layer\n",
        "  for i in range(hp.Int('num_layers',min_value=1,max_value=10)): # this means we sill build 10 models which have 1 layer , 2 layer and so on up to 10 layer respectively.\n",
        "\n",
        "     model.add(Dense(72,activation='relu'))  # hidden layer\n",
        "\n",
        "  model.add(Dense(1,activation='sigmoid'))   # output layer\n",
        "  model.compile(optimizer='rmsprop',loss='binary_crossentropy',metrics=['accuracy'])\n",
        "  return model"
      ],
      "metadata": {
        "id": "VlWtr9SeuVvX"
      },
      "execution_count": 68,
      "outputs": []
    },
    {
      "cell_type": "code",
      "source": [
        "tuner = kt.RandomSearch(\n",
        "    build_model,\n",
        "    objective='val_accuracy',\n",
        "    max_trials=3,\n",
        "    directory='project',\n",
        "    project_name='diabetes'\n",
        ")"
      ],
      "metadata": {
        "id": "sUKohvCdxpmd"
      },
      "execution_count": 69,
      "outputs": []
    },
    {
      "cell_type": "code",
      "source": [
        "tuner.search(x_train,y_train,epochs=5,validation_data=(x_test,y_test))"
      ],
      "metadata": {
        "id": "1bWaNeQfx_rs"
      },
      "execution_count": 70,
      "outputs": []
    },
    {
      "cell_type": "code",
      "source": [
        "tuner.get_best_hyperparameters()[0].values"
      ],
      "metadata": {
        "colab": {
          "base_uri": "https://localhost:8080/"
        },
        "id": "TdlKbwF2yPQz",
        "outputId": "da8d19f2-19e8-4bea-8bba-62a353649442"
      },
      "execution_count": 71,
      "outputs": [
        {
          "output_type": "execute_result",
          "data": {
            "text/plain": [
              "{'num_layers': 8}"
            ]
          },
          "metadata": {},
          "execution_count": 71
        }
      ]
    },
    {
      "cell_type": "code",
      "source": [
        "model=tuner.get_best_models(num_models=1)[0]"
      ],
      "metadata": {
        "id": "KM9Y4llqyWhq"
      },
      "execution_count": 72,
      "outputs": []
    },
    {
      "cell_type": "code",
      "source": [
        "model.fit(x_train,y_train,epochs=100,batch_size=32,initial_epoch=6)"
      ],
      "metadata": {
        "colab": {
          "base_uri": "https://localhost:8080/"
        },
        "id": "ka5NdW4SylEy",
        "outputId": "94c02346-3d09-492b-d936-10600de92761"
      },
      "execution_count": 73,
      "outputs": [
        {
          "output_type": "stream",
          "name": "stdout",
          "text": [
            "Epoch 7/100\n",
            "20/20 [==============================] - 1s 2ms/step - loss: 0.4819 - accuracy: 0.7785\n",
            "Epoch 8/100\n",
            "20/20 [==============================] - 0s 2ms/step - loss: 0.4710 - accuracy: 0.7899\n",
            "Epoch 9/100\n",
            "20/20 [==============================] - 0s 2ms/step - loss: 0.4644 - accuracy: 0.7899\n",
            "Epoch 10/100\n",
            "20/20 [==============================] - 0s 2ms/step - loss: 0.4502 - accuracy: 0.7964\n",
            "Epoch 11/100\n",
            "20/20 [==============================] - 0s 2ms/step - loss: 0.4323 - accuracy: 0.8046\n",
            "Epoch 12/100\n",
            "20/20 [==============================] - 0s 2ms/step - loss: 0.4460 - accuracy: 0.7866\n",
            "Epoch 13/100\n",
            "20/20 [==============================] - 0s 2ms/step - loss: 0.4252 - accuracy: 0.7948\n",
            "Epoch 14/100\n",
            "20/20 [==============================] - 0s 2ms/step - loss: 0.4131 - accuracy: 0.8208\n",
            "Epoch 15/100\n",
            "20/20 [==============================] - 0s 2ms/step - loss: 0.4125 - accuracy: 0.8143\n",
            "Epoch 16/100\n",
            "20/20 [==============================] - 0s 2ms/step - loss: 0.3907 - accuracy: 0.8290\n",
            "Epoch 17/100\n",
            "20/20 [==============================] - 0s 2ms/step - loss: 0.4029 - accuracy: 0.8160\n",
            "Epoch 18/100\n",
            "20/20 [==============================] - 0s 2ms/step - loss: 0.3718 - accuracy: 0.8371\n",
            "Epoch 19/100\n",
            "20/20 [==============================] - 0s 2ms/step - loss: 0.3681 - accuracy: 0.8469\n",
            "Epoch 20/100\n",
            "20/20 [==============================] - 0s 2ms/step - loss: 0.3557 - accuracy: 0.8567\n",
            "Epoch 21/100\n",
            "20/20 [==============================] - 0s 2ms/step - loss: 0.3534 - accuracy: 0.8469\n",
            "Epoch 22/100\n",
            "20/20 [==============================] - 0s 2ms/step - loss: 0.3449 - accuracy: 0.8664\n",
            "Epoch 23/100\n",
            "20/20 [==============================] - 0s 2ms/step - loss: 0.3336 - accuracy: 0.8534\n",
            "Epoch 24/100\n",
            "20/20 [==============================] - 0s 2ms/step - loss: 0.3183 - accuracy: 0.8713\n",
            "Epoch 25/100\n",
            "20/20 [==============================] - 0s 2ms/step - loss: 0.3031 - accuracy: 0.8746\n",
            "Epoch 26/100\n",
            "20/20 [==============================] - 0s 2ms/step - loss: 0.2864 - accuracy: 0.8909\n",
            "Epoch 27/100\n",
            "20/20 [==============================] - 0s 2ms/step - loss: 0.2735 - accuracy: 0.8909\n",
            "Epoch 28/100\n",
            "20/20 [==============================] - 0s 2ms/step - loss: 0.2839 - accuracy: 0.8876\n",
            "Epoch 29/100\n",
            "20/20 [==============================] - 0s 2ms/step - loss: 0.2658 - accuracy: 0.8974\n",
            "Epoch 30/100\n",
            "20/20 [==============================] - 0s 2ms/step - loss: 0.2504 - accuracy: 0.8974\n",
            "Epoch 31/100\n",
            "20/20 [==============================] - 0s 2ms/step - loss: 0.2445 - accuracy: 0.9121\n",
            "Epoch 32/100\n",
            "20/20 [==============================] - 0s 2ms/step - loss: 0.2375 - accuracy: 0.9104\n",
            "Epoch 33/100\n",
            "20/20 [==============================] - 0s 2ms/step - loss: 0.2081 - accuracy: 0.9186\n",
            "Epoch 34/100\n",
            "20/20 [==============================] - 0s 2ms/step - loss: 0.2045 - accuracy: 0.9202\n",
            "Epoch 35/100\n",
            "20/20 [==============================] - 0s 2ms/step - loss: 0.2439 - accuracy: 0.9316\n",
            "Epoch 36/100\n",
            "20/20 [==============================] - 0s 2ms/step - loss: 0.2107 - accuracy: 0.9300\n",
            "Epoch 37/100\n",
            "20/20 [==============================] - 0s 2ms/step - loss: 0.1941 - accuracy: 0.9381\n",
            "Epoch 38/100\n",
            "20/20 [==============================] - 0s 2ms/step - loss: 0.1853 - accuracy: 0.9332\n",
            "Epoch 39/100\n",
            "20/20 [==============================] - 0s 2ms/step - loss: 0.1824 - accuracy: 0.9381\n",
            "Epoch 40/100\n",
            "20/20 [==============================] - 0s 2ms/step - loss: 0.1473 - accuracy: 0.9446\n",
            "Epoch 41/100\n",
            "20/20 [==============================] - 0s 2ms/step - loss: 0.1733 - accuracy: 0.9349\n",
            "Epoch 42/100\n",
            "20/20 [==============================] - 0s 2ms/step - loss: 0.1192 - accuracy: 0.9642\n",
            "Epoch 43/100\n",
            "20/20 [==============================] - 0s 2ms/step - loss: 0.2094 - accuracy: 0.9267\n",
            "Epoch 44/100\n",
            "20/20 [==============================] - 0s 2ms/step - loss: 0.1283 - accuracy: 0.9609\n",
            "Epoch 45/100\n",
            "20/20 [==============================] - 0s 2ms/step - loss: 0.1701 - accuracy: 0.9381\n",
            "Epoch 46/100\n",
            "20/20 [==============================] - 0s 2ms/step - loss: 0.0926 - accuracy: 0.9707\n",
            "Epoch 47/100\n",
            "20/20 [==============================] - 0s 2ms/step - loss: 0.1327 - accuracy: 0.9577\n",
            "Epoch 48/100\n",
            "20/20 [==============================] - 0s 2ms/step - loss: 0.1136 - accuracy: 0.9642\n",
            "Epoch 49/100\n",
            "20/20 [==============================] - 0s 2ms/step - loss: 0.1269 - accuracy: 0.9560\n",
            "Epoch 50/100\n",
            "20/20 [==============================] - 0s 2ms/step - loss: 0.1125 - accuracy: 0.9593\n",
            "Epoch 51/100\n",
            "20/20 [==============================] - 0s 2ms/step - loss: 0.0732 - accuracy: 0.9756\n",
            "Epoch 52/100\n",
            "20/20 [==============================] - 0s 2ms/step - loss: 0.1565 - accuracy: 0.9414\n",
            "Epoch 53/100\n",
            "20/20 [==============================] - 0s 2ms/step - loss: 0.0981 - accuracy: 0.9658\n",
            "Epoch 54/100\n",
            "20/20 [==============================] - 0s 2ms/step - loss: 0.0693 - accuracy: 0.9756\n",
            "Epoch 55/100\n",
            "20/20 [==============================] - 0s 2ms/step - loss: 0.0581 - accuracy: 0.9837\n",
            "Epoch 56/100\n",
            "20/20 [==============================] - 0s 2ms/step - loss: 0.1141 - accuracy: 0.9609\n",
            "Epoch 57/100\n",
            "20/20 [==============================] - 0s 2ms/step - loss: 0.0861 - accuracy: 0.9707\n",
            "Epoch 58/100\n",
            "20/20 [==============================] - 0s 2ms/step - loss: 0.0859 - accuracy: 0.9691\n",
            "Epoch 59/100\n",
            "20/20 [==============================] - 0s 2ms/step - loss: 0.0683 - accuracy: 0.9788\n",
            "Epoch 60/100\n",
            "20/20 [==============================] - 0s 2ms/step - loss: 0.0810 - accuracy: 0.9739\n",
            "Epoch 61/100\n",
            "20/20 [==============================] - 0s 2ms/step - loss: 0.0689 - accuracy: 0.9739\n",
            "Epoch 62/100\n",
            "20/20 [==============================] - 0s 2ms/step - loss: 0.0691 - accuracy: 0.9756\n",
            "Epoch 63/100\n",
            "20/20 [==============================] - 0s 2ms/step - loss: 0.0220 - accuracy: 0.9902\n",
            "Epoch 64/100\n",
            "20/20 [==============================] - 0s 2ms/step - loss: 0.1354 - accuracy: 0.9723\n",
            "Epoch 65/100\n",
            "20/20 [==============================] - 0s 2ms/step - loss: 0.0320 - accuracy: 0.9853\n",
            "Epoch 66/100\n",
            "20/20 [==============================] - 0s 2ms/step - loss: 0.1465 - accuracy: 0.9593\n",
            "Epoch 67/100\n",
            "20/20 [==============================] - 0s 2ms/step - loss: 0.0616 - accuracy: 0.9870\n",
            "Epoch 68/100\n",
            "20/20 [==============================] - 0s 2ms/step - loss: 0.0276 - accuracy: 0.9902\n",
            "Epoch 69/100\n",
            "20/20 [==============================] - 0s 2ms/step - loss: 0.0854 - accuracy: 0.9707\n",
            "Epoch 70/100\n",
            "20/20 [==============================] - 0s 2ms/step - loss: 0.0458 - accuracy: 0.9902\n",
            "Epoch 71/100\n",
            "20/20 [==============================] - 0s 2ms/step - loss: 0.0798 - accuracy: 0.9788\n",
            "Epoch 72/100\n",
            "20/20 [==============================] - 0s 2ms/step - loss: 0.0216 - accuracy: 0.9951\n",
            "Epoch 73/100\n",
            "20/20 [==============================] - 0s 2ms/step - loss: 0.0764 - accuracy: 0.9707\n",
            "Epoch 74/100\n",
            "20/20 [==============================] - 0s 2ms/step - loss: 0.0558 - accuracy: 0.9788\n",
            "Epoch 75/100\n",
            "20/20 [==============================] - 0s 2ms/step - loss: 0.0196 - accuracy: 0.9951\n",
            "Epoch 76/100\n",
            "20/20 [==============================] - 0s 2ms/step - loss: 0.1037 - accuracy: 0.9642\n",
            "Epoch 77/100\n",
            "20/20 [==============================] - 0s 2ms/step - loss: 0.0417 - accuracy: 0.9837\n",
            "Epoch 78/100\n",
            "20/20 [==============================] - 0s 2ms/step - loss: 0.0229 - accuracy: 0.9919\n",
            "Epoch 79/100\n",
            "20/20 [==============================] - 0s 2ms/step - loss: 0.0605 - accuracy: 0.9805\n",
            "Epoch 80/100\n",
            "20/20 [==============================] - 0s 2ms/step - loss: 0.0321 - accuracy: 0.9853\n",
            "Epoch 81/100\n",
            "20/20 [==============================] - 0s 2ms/step - loss: 0.0508 - accuracy: 0.9853\n",
            "Epoch 82/100\n",
            "20/20 [==============================] - 0s 2ms/step - loss: 0.0361 - accuracy: 0.9935\n",
            "Epoch 83/100\n",
            "20/20 [==============================] - 0s 2ms/step - loss: 0.0533 - accuracy: 0.9837\n",
            "Epoch 84/100\n",
            "20/20 [==============================] - 0s 2ms/step - loss: 0.0637 - accuracy: 0.9772\n",
            "Epoch 85/100\n",
            "20/20 [==============================] - 0s 2ms/step - loss: 0.0387 - accuracy: 0.9886\n",
            "Epoch 86/100\n",
            "20/20 [==============================] - 0s 2ms/step - loss: 0.0589 - accuracy: 0.9821\n",
            "Epoch 87/100\n",
            "20/20 [==============================] - 0s 2ms/step - loss: 0.0358 - accuracy: 0.9902\n",
            "Epoch 88/100\n",
            "20/20 [==============================] - 0s 2ms/step - loss: 0.0344 - accuracy: 0.9853\n",
            "Epoch 89/100\n",
            "20/20 [==============================] - 0s 2ms/step - loss: 0.0352 - accuracy: 0.9935\n",
            "Epoch 90/100\n",
            "20/20 [==============================] - 0s 2ms/step - loss: 0.0838 - accuracy: 0.9821\n",
            "Epoch 91/100\n",
            "20/20 [==============================] - 0s 2ms/step - loss: 0.0090 - accuracy: 0.9984\n",
            "Epoch 92/100\n",
            "20/20 [==============================] - 0s 2ms/step - loss: 0.0528 - accuracy: 0.9805\n",
            "Epoch 93/100\n",
            "20/20 [==============================] - 0s 2ms/step - loss: 0.0531 - accuracy: 0.9886\n",
            "Epoch 94/100\n",
            "20/20 [==============================] - 0s 2ms/step - loss: 0.0223 - accuracy: 0.9951\n",
            "Epoch 95/100\n",
            "20/20 [==============================] - 0s 2ms/step - loss: 0.0031 - accuracy: 1.0000\n",
            "Epoch 96/100\n",
            "20/20 [==============================] - 0s 2ms/step - loss: 0.0082 - accuracy: 0.9984\n",
            "Epoch 97/100\n",
            "20/20 [==============================] - 0s 2ms/step - loss: 0.0221 - accuracy: 0.9951\n",
            "Epoch 98/100\n",
            "20/20 [==============================] - 0s 2ms/step - loss: 0.0502 - accuracy: 0.9805\n",
            "Epoch 99/100\n",
            "20/20 [==============================] - 0s 2ms/step - loss: 0.0203 - accuracy: 0.9967\n",
            "Epoch 100/100\n",
            "20/20 [==============================] - 0s 2ms/step - loss: 0.0202 - accuracy: 0.9967\n"
          ]
        },
        {
          "output_type": "execute_result",
          "data": {
            "text/plain": [
              "<keras.callbacks.History at 0x7e7fa2bc3d60>"
            ]
          },
          "metadata": {},
          "execution_count": 73
        }
      ]
    },
    {
      "cell_type": "code",
      "source": [
        "# all in one model\n",
        "def build_model(hp):\n",
        "  model=Sequential()\n",
        "\n",
        "  counter=0\n",
        "  for i in range(hp.Int('num_layers',min_value=1,max_value=10)):\n",
        "    if counter==0:\n",
        "      model.add(Dense(\n",
        "          hp.Int('units'+str(i),min_value=8,max_value=128,step=8),\n",
        "          activation=hp.Choice('activation'+str(i),values=['tanh','relu','sigmoid']),\n",
        "          input_dim=8\n",
        "      ))\n",
        "    else:\n",
        "        model.add(Dense(\n",
        "          hp.Int('units'+str(i),min_value=8,max_value=128,step=8),\n",
        "          activation=hp.Choice('activation'+str(i),values=['tanh','relu','sigmoid'])\n",
        "      ))\n",
        "  counter+=1\n",
        "\n",
        "  model.add(Dense(1,activation='sigmoid'))\n",
        "  model.compile(optimizer=hp.Choice('optimizer',values=['rmsprop','adam','sgd','adadelta']),loss='binary_crossentropy',metrics=['accuracy'])\n",
        "\n",
        "  return model"
      ],
      "metadata": {
        "id": "t66d3YIfyv9q"
      },
      "execution_count": 74,
      "outputs": []
    },
    {
      "cell_type": "code",
      "source": [
        "tuner=kt.RandomSearch(\n",
        "    build_model,\n",
        "    objective='val_accuracy',\n",
        "    max_trials=3,\n",
        "    directory='main_dir',\n",
        "    project_name='diabetes project'\n",
        ")"
      ],
      "metadata": {
        "id": "40eErEdF-a7T"
      },
      "execution_count": 75,
      "outputs": []
    },
    {
      "cell_type": "code",
      "source": [
        "tuner.search(x_train,y_train,epochs=5,validation_data=(x_test,y_test))"
      ],
      "metadata": {
        "id": "Iis5NVoX-743",
        "colab": {
          "base_uri": "https://localhost:8080/"
        },
        "outputId": "064d53e0-1a4e-4269-fb12-4a84750f1678"
      },
      "execution_count": 76,
      "outputs": [
        {
          "output_type": "stream",
          "name": "stdout",
          "text": [
            "Trial 3 Complete [00h 00m 02s]\n",
            "val_accuracy: 0.6428571343421936\n",
            "\n",
            "Best val_accuracy So Far: 0.8116883039474487\n",
            "Total elapsed time: 00h 00m 09s\n"
          ]
        }
      ]
    },
    {
      "cell_type": "code",
      "source": [
        "tuner.get_best_hyperparameters()[0].values"
      ],
      "metadata": {
        "colab": {
          "base_uri": "https://localhost:8080/"
        },
        "id": "5ZxY7HuiB7K6",
        "outputId": "a8b0175f-4eff-4ed7-f7e2-e0b8dc34d7e6"
      },
      "execution_count": 77,
      "outputs": [
        {
          "output_type": "execute_result",
          "data": {
            "text/plain": [
              "{'num_layers': 7,\n",
              " 'units0': 56,\n",
              " 'activation0': 'tanh',\n",
              " 'optimizer': 'rmsprop',\n",
              " 'units1': 8,\n",
              " 'activation1': 'tanh',\n",
              " 'units2': 8,\n",
              " 'activation2': 'tanh',\n",
              " 'units3': 8,\n",
              " 'activation3': 'tanh',\n",
              " 'units4': 8,\n",
              " 'activation4': 'tanh',\n",
              " 'units5': 8,\n",
              " 'activation5': 'tanh',\n",
              " 'units6': 8,\n",
              " 'activation6': 'tanh'}"
            ]
          },
          "metadata": {},
          "execution_count": 77
        }
      ]
    },
    {
      "cell_type": "code",
      "source": [
        "model = tuner.get_best_models(num_models=1)[0]"
      ],
      "metadata": {
        "id": "hUZswXgeCBUo"
      },
      "execution_count": 78,
      "outputs": []
    },
    {
      "cell_type": "code",
      "source": [
        "model.fit(x_train,y_train,epochs=200,initial_epoch=6,validation_data=(x_test,y_test))"
      ],
      "metadata": {
        "colab": {
          "base_uri": "https://localhost:8080/"
        },
        "id": "g5jN5frWCXOe",
        "outputId": "1361ce19-fc34-4414-c6b4-6ba85150fd68"
      },
      "execution_count": 81,
      "outputs": [
        {
          "output_type": "stream",
          "name": "stdout",
          "text": [
            "Epoch 7/200\n",
            "20/20 [==============================] - 0s 4ms/step - loss: 0.3562 - accuracy: 0.8388 - val_loss: 0.5148 - val_accuracy: 0.7792\n",
            "Epoch 8/200\n",
            "20/20 [==============================] - 0s 4ms/step - loss: 0.3562 - accuracy: 0.8388 - val_loss: 0.5114 - val_accuracy: 0.7922\n",
            "Epoch 9/200\n",
            "20/20 [==============================] - 0s 2ms/step - loss: 0.3565 - accuracy: 0.8453 - val_loss: 0.5173 - val_accuracy: 0.7662\n",
            "Epoch 10/200\n",
            "20/20 [==============================] - 0s 2ms/step - loss: 0.3590 - accuracy: 0.8241 - val_loss: 0.5151 - val_accuracy: 0.7857\n",
            "Epoch 11/200\n",
            "20/20 [==============================] - 0s 3ms/step - loss: 0.3515 - accuracy: 0.8420 - val_loss: 0.5089 - val_accuracy: 0.7727\n",
            "Epoch 12/200\n",
            "20/20 [==============================] - 0s 3ms/step - loss: 0.3530 - accuracy: 0.8420 - val_loss: 0.5406 - val_accuracy: 0.7662\n",
            "Epoch 13/200\n",
            "20/20 [==============================] - 0s 3ms/step - loss: 0.3525 - accuracy: 0.8322 - val_loss: 0.5333 - val_accuracy: 0.7532\n",
            "Epoch 14/200\n",
            "20/20 [==============================] - 0s 3ms/step - loss: 0.3488 - accuracy: 0.8453 - val_loss: 0.4971 - val_accuracy: 0.7792\n",
            "Epoch 15/200\n",
            "20/20 [==============================] - 0s 3ms/step - loss: 0.3522 - accuracy: 0.8371 - val_loss: 0.5027 - val_accuracy: 0.7338\n",
            "Epoch 16/200\n",
            "20/20 [==============================] - 0s 4ms/step - loss: 0.3524 - accuracy: 0.8257 - val_loss: 0.4939 - val_accuracy: 0.7792\n",
            "Epoch 17/200\n",
            "20/20 [==============================] - 0s 3ms/step - loss: 0.3456 - accuracy: 0.8388 - val_loss: 0.5051 - val_accuracy: 0.7792\n",
            "Epoch 18/200\n",
            "20/20 [==============================] - 0s 3ms/step - loss: 0.3462 - accuracy: 0.8453 - val_loss: 0.5260 - val_accuracy: 0.7468\n",
            "Epoch 19/200\n",
            "20/20 [==============================] - 0s 3ms/step - loss: 0.3434 - accuracy: 0.8420 - val_loss: 0.5176 - val_accuracy: 0.7597\n",
            "Epoch 20/200\n",
            "20/20 [==============================] - 0s 3ms/step - loss: 0.3353 - accuracy: 0.8518 - val_loss: 0.5178 - val_accuracy: 0.7792\n",
            "Epoch 21/200\n",
            "20/20 [==============================] - 0s 3ms/step - loss: 0.3445 - accuracy: 0.8306 - val_loss: 0.5248 - val_accuracy: 0.7857\n",
            "Epoch 22/200\n",
            "20/20 [==============================] - 0s 4ms/step - loss: 0.3457 - accuracy: 0.8404 - val_loss: 0.5132 - val_accuracy: 0.7922\n",
            "Epoch 23/200\n",
            "20/20 [==============================] - 0s 3ms/step - loss: 0.3380 - accuracy: 0.8469 - val_loss: 0.5145 - val_accuracy: 0.7792\n",
            "Epoch 24/200\n",
            "20/20 [==============================] - 0s 2ms/step - loss: 0.3350 - accuracy: 0.8420 - val_loss: 0.5232 - val_accuracy: 0.7792\n",
            "Epoch 25/200\n",
            "20/20 [==============================] - 0s 3ms/step - loss: 0.3442 - accuracy: 0.8453 - val_loss: 0.5645 - val_accuracy: 0.7532\n",
            "Epoch 26/200\n",
            "20/20 [==============================] - 0s 2ms/step - loss: 0.3444 - accuracy: 0.8485 - val_loss: 0.5453 - val_accuracy: 0.7597\n",
            "Epoch 27/200\n",
            "20/20 [==============================] - 0s 3ms/step - loss: 0.3415 - accuracy: 0.8355 - val_loss: 0.5415 - val_accuracy: 0.7662\n",
            "Epoch 28/200\n",
            "20/20 [==============================] - 0s 2ms/step - loss: 0.3369 - accuracy: 0.8485 - val_loss: 0.5059 - val_accuracy: 0.7468\n",
            "Epoch 29/200\n",
            "20/20 [==============================] - 0s 3ms/step - loss: 0.3426 - accuracy: 0.8453 - val_loss: 0.5278 - val_accuracy: 0.7468\n",
            "Epoch 30/200\n",
            "20/20 [==============================] - 0s 2ms/step - loss: 0.3360 - accuracy: 0.8534 - val_loss: 0.5235 - val_accuracy: 0.7597\n",
            "Epoch 31/200\n",
            "20/20 [==============================] - 0s 2ms/step - loss: 0.3316 - accuracy: 0.8485 - val_loss: 0.5151 - val_accuracy: 0.7662\n",
            "Epoch 32/200\n",
            "20/20 [==============================] - 0s 3ms/step - loss: 0.3400 - accuracy: 0.8485 - val_loss: 0.5155 - val_accuracy: 0.7468\n",
            "Epoch 33/200\n",
            "20/20 [==============================] - 0s 4ms/step - loss: 0.3319 - accuracy: 0.8453 - val_loss: 0.5595 - val_accuracy: 0.7532\n",
            "Epoch 34/200\n",
            "20/20 [==============================] - 0s 4ms/step - loss: 0.3371 - accuracy: 0.8469 - val_loss: 0.5144 - val_accuracy: 0.7792\n",
            "Epoch 35/200\n",
            "20/20 [==============================] - 0s 3ms/step - loss: 0.3299 - accuracy: 0.8485 - val_loss: 0.5464 - val_accuracy: 0.7597\n",
            "Epoch 36/200\n",
            "20/20 [==============================] - 0s 4ms/step - loss: 0.3294 - accuracy: 0.8567 - val_loss: 0.5225 - val_accuracy: 0.7403\n",
            "Epoch 37/200\n",
            "20/20 [==============================] - 0s 4ms/step - loss: 0.3302 - accuracy: 0.8420 - val_loss: 0.5849 - val_accuracy: 0.7532\n",
            "Epoch 38/200\n",
            "20/20 [==============================] - 0s 4ms/step - loss: 0.3324 - accuracy: 0.8518 - val_loss: 0.5528 - val_accuracy: 0.7532\n",
            "Epoch 39/200\n",
            "20/20 [==============================] - 0s 4ms/step - loss: 0.3285 - accuracy: 0.8550 - val_loss: 0.5289 - val_accuracy: 0.7597\n",
            "Epoch 40/200\n",
            "20/20 [==============================] - 0s 3ms/step - loss: 0.3262 - accuracy: 0.8550 - val_loss: 0.5354 - val_accuracy: 0.7662\n",
            "Epoch 41/200\n",
            "20/20 [==============================] - 0s 3ms/step - loss: 0.3220 - accuracy: 0.8567 - val_loss: 0.5197 - val_accuracy: 0.7403\n",
            "Epoch 42/200\n",
            "20/20 [==============================] - 0s 4ms/step - loss: 0.3318 - accuracy: 0.8534 - val_loss: 0.5224 - val_accuracy: 0.7792\n",
            "Epoch 43/200\n",
            "20/20 [==============================] - 0s 4ms/step - loss: 0.3229 - accuracy: 0.8534 - val_loss: 0.5355 - val_accuracy: 0.7532\n",
            "Epoch 44/200\n",
            "20/20 [==============================] - 0s 3ms/step - loss: 0.3299 - accuracy: 0.8453 - val_loss: 0.5311 - val_accuracy: 0.7662\n",
            "Epoch 45/200\n",
            "20/20 [==============================] - 0s 4ms/step - loss: 0.3195 - accuracy: 0.8616 - val_loss: 0.5228 - val_accuracy: 0.7727\n",
            "Epoch 46/200\n",
            "20/20 [==============================] - 0s 4ms/step - loss: 0.3259 - accuracy: 0.8485 - val_loss: 0.5250 - val_accuracy: 0.7468\n",
            "Epoch 47/200\n",
            "20/20 [==============================] - 0s 4ms/step - loss: 0.3208 - accuracy: 0.8648 - val_loss: 0.5510 - val_accuracy: 0.7727\n",
            "Epoch 48/200\n",
            "20/20 [==============================] - 0s 3ms/step - loss: 0.3205 - accuracy: 0.8534 - val_loss: 0.5553 - val_accuracy: 0.7727\n",
            "Epoch 49/200\n",
            "20/20 [==============================] - 0s 4ms/step - loss: 0.3209 - accuracy: 0.8502 - val_loss: 0.5329 - val_accuracy: 0.7597\n",
            "Epoch 50/200\n",
            "20/20 [==============================] - 0s 5ms/step - loss: 0.3191 - accuracy: 0.8599 - val_loss: 0.5509 - val_accuracy: 0.7662\n",
            "Epoch 51/200\n",
            "20/20 [==============================] - 0s 3ms/step - loss: 0.3163 - accuracy: 0.8583 - val_loss: 0.5370 - val_accuracy: 0.7532\n",
            "Epoch 52/200\n",
            "20/20 [==============================] - 0s 4ms/step - loss: 0.3147 - accuracy: 0.8550 - val_loss: 0.5508 - val_accuracy: 0.7662\n",
            "Epoch 53/200\n",
            "20/20 [==============================] - 0s 4ms/step - loss: 0.3201 - accuracy: 0.8567 - val_loss: 0.5509 - val_accuracy: 0.7727\n",
            "Epoch 54/200\n",
            "20/20 [==============================] - 0s 4ms/step - loss: 0.3106 - accuracy: 0.8583 - val_loss: 0.5355 - val_accuracy: 0.7532\n",
            "Epoch 55/200\n",
            "20/20 [==============================] - 0s 4ms/step - loss: 0.3136 - accuracy: 0.8632 - val_loss: 0.6027 - val_accuracy: 0.7662\n",
            "Epoch 56/200\n",
            "20/20 [==============================] - 0s 2ms/step - loss: 0.3151 - accuracy: 0.8664 - val_loss: 0.5764 - val_accuracy: 0.7468\n",
            "Epoch 57/200\n",
            "20/20 [==============================] - 0s 3ms/step - loss: 0.3104 - accuracy: 0.8567 - val_loss: 0.5579 - val_accuracy: 0.7597\n",
            "Epoch 58/200\n",
            "20/20 [==============================] - 0s 3ms/step - loss: 0.3134 - accuracy: 0.8534 - val_loss: 0.6398 - val_accuracy: 0.7532\n",
            "Epoch 59/200\n",
            "20/20 [==============================] - 0s 3ms/step - loss: 0.3172 - accuracy: 0.8518 - val_loss: 0.5647 - val_accuracy: 0.7597\n",
            "Epoch 60/200\n",
            "20/20 [==============================] - 0s 3ms/step - loss: 0.3093 - accuracy: 0.8616 - val_loss: 0.5603 - val_accuracy: 0.7532\n",
            "Epoch 61/200\n",
            "20/20 [==============================] - 0s 3ms/step - loss: 0.3094 - accuracy: 0.8616 - val_loss: 0.5424 - val_accuracy: 0.7727\n",
            "Epoch 62/200\n",
            "20/20 [==============================] - 0s 3ms/step - loss: 0.3113 - accuracy: 0.8616 - val_loss: 0.5520 - val_accuracy: 0.7727\n",
            "Epoch 63/200\n",
            "20/20 [==============================] - 0s 3ms/step - loss: 0.3048 - accuracy: 0.8713 - val_loss: 0.6192 - val_accuracy: 0.7662\n",
            "Epoch 64/200\n",
            "20/20 [==============================] - 0s 3ms/step - loss: 0.3103 - accuracy: 0.8518 - val_loss: 0.5665 - val_accuracy: 0.7468\n",
            "Epoch 65/200\n",
            "20/20 [==============================] - 0s 3ms/step - loss: 0.3026 - accuracy: 0.8583 - val_loss: 0.5601 - val_accuracy: 0.7857\n",
            "Epoch 66/200\n",
            "20/20 [==============================] - 0s 3ms/step - loss: 0.3061 - accuracy: 0.8664 - val_loss: 0.5636 - val_accuracy: 0.7792\n",
            "Epoch 67/200\n",
            "20/20 [==============================] - 0s 3ms/step - loss: 0.3063 - accuracy: 0.8681 - val_loss: 0.5793 - val_accuracy: 0.7662\n",
            "Epoch 68/200\n",
            "20/20 [==============================] - 0s 3ms/step - loss: 0.3046 - accuracy: 0.8648 - val_loss: 0.5875 - val_accuracy: 0.7403\n",
            "Epoch 69/200\n",
            "20/20 [==============================] - 0s 2ms/step - loss: 0.2979 - accuracy: 0.8795 - val_loss: 0.5861 - val_accuracy: 0.7792\n",
            "Epoch 70/200\n",
            "20/20 [==============================] - 0s 3ms/step - loss: 0.3027 - accuracy: 0.8697 - val_loss: 0.5649 - val_accuracy: 0.7597\n",
            "Epoch 71/200\n",
            "20/20 [==============================] - 0s 3ms/step - loss: 0.3004 - accuracy: 0.8632 - val_loss: 0.5934 - val_accuracy: 0.7662\n",
            "Epoch 72/200\n",
            "20/20 [==============================] - 0s 2ms/step - loss: 0.2971 - accuracy: 0.8664 - val_loss: 0.5876 - val_accuracy: 0.7338\n",
            "Epoch 73/200\n",
            "20/20 [==============================] - 0s 3ms/step - loss: 0.2999 - accuracy: 0.8648 - val_loss: 0.5739 - val_accuracy: 0.7727\n",
            "Epoch 74/200\n",
            "20/20 [==============================] - 0s 2ms/step - loss: 0.3036 - accuracy: 0.8534 - val_loss: 0.5646 - val_accuracy: 0.7468\n",
            "Epoch 75/200\n",
            "20/20 [==============================] - 0s 3ms/step - loss: 0.2978 - accuracy: 0.8632 - val_loss: 0.5729 - val_accuracy: 0.7662\n",
            "Epoch 76/200\n",
            "20/20 [==============================] - 0s 3ms/step - loss: 0.2974 - accuracy: 0.8648 - val_loss: 0.5748 - val_accuracy: 0.7662\n",
            "Epoch 77/200\n",
            "20/20 [==============================] - 0s 2ms/step - loss: 0.2931 - accuracy: 0.8713 - val_loss: 0.5737 - val_accuracy: 0.7532\n",
            "Epoch 78/200\n",
            "20/20 [==============================] - 0s 3ms/step - loss: 0.2954 - accuracy: 0.8795 - val_loss: 0.5945 - val_accuracy: 0.7792\n",
            "Epoch 79/200\n",
            "20/20 [==============================] - 0s 3ms/step - loss: 0.2894 - accuracy: 0.8811 - val_loss: 0.5575 - val_accuracy: 0.7597\n",
            "Epoch 80/200\n",
            "20/20 [==============================] - 0s 4ms/step - loss: 0.2955 - accuracy: 0.8632 - val_loss: 0.6241 - val_accuracy: 0.7468\n",
            "Epoch 81/200\n",
            "20/20 [==============================] - 0s 3ms/step - loss: 0.2967 - accuracy: 0.8746 - val_loss: 0.6178 - val_accuracy: 0.7727\n",
            "Epoch 82/200\n",
            "20/20 [==============================] - 0s 4ms/step - loss: 0.2921 - accuracy: 0.8844 - val_loss: 0.5981 - val_accuracy: 0.7727\n",
            "Epoch 83/200\n",
            "20/20 [==============================] - 0s 3ms/step - loss: 0.2928 - accuracy: 0.8681 - val_loss: 0.5742 - val_accuracy: 0.7727\n",
            "Epoch 84/200\n",
            "20/20 [==============================] - 0s 2ms/step - loss: 0.2913 - accuracy: 0.8762 - val_loss: 0.5994 - val_accuracy: 0.7273\n",
            "Epoch 85/200\n",
            "20/20 [==============================] - 0s 3ms/step - loss: 0.2925 - accuracy: 0.8746 - val_loss: 0.6206 - val_accuracy: 0.7468\n",
            "Epoch 86/200\n",
            "20/20 [==============================] - 0s 3ms/step - loss: 0.2949 - accuracy: 0.8567 - val_loss: 0.5765 - val_accuracy: 0.7727\n",
            "Epoch 87/200\n",
            "20/20 [==============================] - 0s 2ms/step - loss: 0.2911 - accuracy: 0.8779 - val_loss: 0.6144 - val_accuracy: 0.7597\n",
            "Epoch 88/200\n",
            "20/20 [==============================] - 0s 3ms/step - loss: 0.2880 - accuracy: 0.8746 - val_loss: 0.5803 - val_accuracy: 0.7857\n",
            "Epoch 89/200\n",
            "20/20 [==============================] - 0s 3ms/step - loss: 0.2916 - accuracy: 0.8779 - val_loss: 0.6053 - val_accuracy: 0.7468\n",
            "Epoch 90/200\n",
            "20/20 [==============================] - 0s 3ms/step - loss: 0.2906 - accuracy: 0.8746 - val_loss: 0.5707 - val_accuracy: 0.7468\n",
            "Epoch 91/200\n",
            "20/20 [==============================] - 0s 2ms/step - loss: 0.2777 - accuracy: 0.8811 - val_loss: 0.5664 - val_accuracy: 0.7468\n",
            "Epoch 92/200\n",
            "20/20 [==============================] - 0s 3ms/step - loss: 0.2913 - accuracy: 0.8681 - val_loss: 0.6101 - val_accuracy: 0.7597\n",
            "Epoch 93/200\n",
            "20/20 [==============================] - 0s 3ms/step - loss: 0.2804 - accuracy: 0.8697 - val_loss: 0.6848 - val_accuracy: 0.7403\n",
            "Epoch 94/200\n",
            "20/20 [==============================] - 0s 3ms/step - loss: 0.2861 - accuracy: 0.8632 - val_loss: 0.5929 - val_accuracy: 0.7338\n",
            "Epoch 95/200\n",
            "20/20 [==============================] - 0s 3ms/step - loss: 0.2831 - accuracy: 0.8811 - val_loss: 0.5950 - val_accuracy: 0.7727\n",
            "Epoch 96/200\n",
            "20/20 [==============================] - 0s 3ms/step - loss: 0.2850 - accuracy: 0.8860 - val_loss: 0.6284 - val_accuracy: 0.7857\n",
            "Epoch 97/200\n",
            "20/20 [==============================] - 0s 3ms/step - loss: 0.2815 - accuracy: 0.8730 - val_loss: 0.5897 - val_accuracy: 0.7597\n",
            "Epoch 98/200\n",
            "20/20 [==============================] - 0s 4ms/step - loss: 0.2827 - accuracy: 0.8844 - val_loss: 0.6368 - val_accuracy: 0.7662\n",
            "Epoch 99/200\n",
            "20/20 [==============================] - 0s 3ms/step - loss: 0.2789 - accuracy: 0.8746 - val_loss: 0.6314 - val_accuracy: 0.7597\n",
            "Epoch 100/200\n",
            "20/20 [==============================] - 0s 3ms/step - loss: 0.2747 - accuracy: 0.8827 - val_loss: 0.6575 - val_accuracy: 0.7597\n",
            "Epoch 101/200\n",
            "20/20 [==============================] - 0s 3ms/step - loss: 0.2751 - accuracy: 0.8876 - val_loss: 0.6449 - val_accuracy: 0.7532\n",
            "Epoch 102/200\n",
            "20/20 [==============================] - 0s 3ms/step - loss: 0.2772 - accuracy: 0.8876 - val_loss: 0.6041 - val_accuracy: 0.7857\n",
            "Epoch 103/200\n",
            "20/20 [==============================] - 0s 3ms/step - loss: 0.2749 - accuracy: 0.8860 - val_loss: 0.5986 - val_accuracy: 0.7922\n",
            "Epoch 104/200\n",
            "20/20 [==============================] - 0s 3ms/step - loss: 0.2749 - accuracy: 0.8844 - val_loss: 0.6399 - val_accuracy: 0.7468\n",
            "Epoch 105/200\n",
            "20/20 [==============================] - 0s 3ms/step - loss: 0.2773 - accuracy: 0.8811 - val_loss: 0.6456 - val_accuracy: 0.7532\n",
            "Epoch 106/200\n",
            "20/20 [==============================] - 0s 3ms/step - loss: 0.2759 - accuracy: 0.8860 - val_loss: 0.6216 - val_accuracy: 0.7662\n",
            "Epoch 107/200\n",
            "20/20 [==============================] - 0s 3ms/step - loss: 0.2749 - accuracy: 0.8909 - val_loss: 0.6530 - val_accuracy: 0.7468\n",
            "Epoch 108/200\n",
            "20/20 [==============================] - 0s 3ms/step - loss: 0.2704 - accuracy: 0.8876 - val_loss: 0.6323 - val_accuracy: 0.7662\n",
            "Epoch 109/200\n",
            "20/20 [==============================] - 0s 2ms/step - loss: 0.2742 - accuracy: 0.8844 - val_loss: 0.6080 - val_accuracy: 0.7532\n",
            "Epoch 110/200\n",
            "20/20 [==============================] - 0s 4ms/step - loss: 0.2711 - accuracy: 0.8827 - val_loss: 0.6091 - val_accuracy: 0.7662\n",
            "Epoch 111/200\n",
            "20/20 [==============================] - 0s 3ms/step - loss: 0.2651 - accuracy: 0.8925 - val_loss: 0.6498 - val_accuracy: 0.7662\n",
            "Epoch 112/200\n",
            "20/20 [==============================] - 0s 3ms/step - loss: 0.2721 - accuracy: 0.8795 - val_loss: 0.6448 - val_accuracy: 0.7532\n",
            "Epoch 113/200\n",
            "20/20 [==============================] - 0s 3ms/step - loss: 0.2679 - accuracy: 0.8860 - val_loss: 0.6225 - val_accuracy: 0.7792\n",
            "Epoch 114/200\n",
            "20/20 [==============================] - 0s 3ms/step - loss: 0.2621 - accuracy: 0.8909 - val_loss: 0.6381 - val_accuracy: 0.7662\n",
            "Epoch 115/200\n",
            "20/20 [==============================] - 0s 2ms/step - loss: 0.2655 - accuracy: 0.8795 - val_loss: 0.6651 - val_accuracy: 0.7338\n",
            "Epoch 116/200\n",
            "20/20 [==============================] - 0s 3ms/step - loss: 0.2667 - accuracy: 0.8779 - val_loss: 0.6502 - val_accuracy: 0.7468\n",
            "Epoch 117/200\n",
            "20/20 [==============================] - 0s 2ms/step - loss: 0.2600 - accuracy: 0.8844 - val_loss: 0.6416 - val_accuracy: 0.7403\n",
            "Epoch 118/200\n",
            "20/20 [==============================] - 0s 2ms/step - loss: 0.2656 - accuracy: 0.8860 - val_loss: 0.6580 - val_accuracy: 0.7727\n",
            "Epoch 119/200\n",
            "20/20 [==============================] - 0s 2ms/step - loss: 0.2637 - accuracy: 0.8941 - val_loss: 0.6951 - val_accuracy: 0.7468\n",
            "Epoch 120/200\n",
            "20/20 [==============================] - 0s 4ms/step - loss: 0.2606 - accuracy: 0.8860 - val_loss: 0.6644 - val_accuracy: 0.7597\n",
            "Epoch 121/200\n",
            "20/20 [==============================] - 0s 3ms/step - loss: 0.2557 - accuracy: 0.8893 - val_loss: 0.6626 - val_accuracy: 0.7792\n",
            "Epoch 122/200\n",
            "20/20 [==============================] - 0s 3ms/step - loss: 0.2585 - accuracy: 0.8893 - val_loss: 0.6662 - val_accuracy: 0.7532\n",
            "Epoch 123/200\n",
            "20/20 [==============================] - 0s 3ms/step - loss: 0.2609 - accuracy: 0.8893 - val_loss: 0.6837 - val_accuracy: 0.7468\n",
            "Epoch 124/200\n",
            "20/20 [==============================] - 0s 3ms/step - loss: 0.2578 - accuracy: 0.8876 - val_loss: 0.6764 - val_accuracy: 0.7857\n",
            "Epoch 125/200\n",
            "20/20 [==============================] - 0s 2ms/step - loss: 0.2611 - accuracy: 0.8893 - val_loss: 0.6581 - val_accuracy: 0.7597\n",
            "Epoch 126/200\n",
            "20/20 [==============================] - 0s 2ms/step - loss: 0.2557 - accuracy: 0.8909 - val_loss: 0.6792 - val_accuracy: 0.7597\n",
            "Epoch 127/200\n",
            "20/20 [==============================] - 0s 3ms/step - loss: 0.2562 - accuracy: 0.8974 - val_loss: 0.6909 - val_accuracy: 0.7403\n",
            "Epoch 128/200\n",
            "20/20 [==============================] - 0s 3ms/step - loss: 0.2575 - accuracy: 0.9023 - val_loss: 0.6735 - val_accuracy: 0.7532\n",
            "Epoch 129/200\n",
            "20/20 [==============================] - 0s 3ms/step - loss: 0.2563 - accuracy: 0.8925 - val_loss: 0.6677 - val_accuracy: 0.7403\n",
            "Epoch 130/200\n",
            "20/20 [==============================] - 0s 2ms/step - loss: 0.2473 - accuracy: 0.9023 - val_loss: 0.6539 - val_accuracy: 0.7597\n",
            "Epoch 131/200\n",
            "20/20 [==============================] - 0s 3ms/step - loss: 0.2603 - accuracy: 0.8958 - val_loss: 0.6496 - val_accuracy: 0.7857\n",
            "Epoch 132/200\n",
            "20/20 [==============================] - 0s 3ms/step - loss: 0.2510 - accuracy: 0.8941 - val_loss: 0.6683 - val_accuracy: 0.7792\n",
            "Epoch 133/200\n",
            "20/20 [==============================] - 0s 3ms/step - loss: 0.2513 - accuracy: 0.8893 - val_loss: 0.6776 - val_accuracy: 0.7532\n",
            "Epoch 134/200\n",
            "20/20 [==============================] - 0s 2ms/step - loss: 0.2487 - accuracy: 0.9007 - val_loss: 0.6995 - val_accuracy: 0.7532\n",
            "Epoch 135/200\n",
            "20/20 [==============================] - 0s 3ms/step - loss: 0.2506 - accuracy: 0.9023 - val_loss: 0.7043 - val_accuracy: 0.7597\n",
            "Epoch 136/200\n",
            "20/20 [==============================] - 0s 3ms/step - loss: 0.2451 - accuracy: 0.9072 - val_loss: 0.6610 - val_accuracy: 0.7857\n",
            "Epoch 137/200\n",
            "20/20 [==============================] - 0s 3ms/step - loss: 0.2442 - accuracy: 0.9007 - val_loss: 0.7173 - val_accuracy: 0.7468\n",
            "Epoch 138/200\n",
            "20/20 [==============================] - 0s 3ms/step - loss: 0.2500 - accuracy: 0.8974 - val_loss: 0.6852 - val_accuracy: 0.7727\n",
            "Epoch 139/200\n",
            "20/20 [==============================] - 0s 3ms/step - loss: 0.2457 - accuracy: 0.8909 - val_loss: 0.6969 - val_accuracy: 0.7532\n",
            "Epoch 140/200\n",
            "20/20 [==============================] - 0s 3ms/step - loss: 0.2508 - accuracy: 0.9007 - val_loss: 0.7094 - val_accuracy: 0.7597\n",
            "Epoch 141/200\n",
            "20/20 [==============================] - 0s 3ms/step - loss: 0.2447 - accuracy: 0.9023 - val_loss: 0.7031 - val_accuracy: 0.7662\n",
            "Epoch 142/200\n",
            "20/20 [==============================] - 0s 4ms/step - loss: 0.2423 - accuracy: 0.8990 - val_loss: 0.7560 - val_accuracy: 0.7403\n",
            "Epoch 143/200\n",
            "20/20 [==============================] - 0s 4ms/step - loss: 0.2514 - accuracy: 0.9023 - val_loss: 0.6955 - val_accuracy: 0.7597\n",
            "Epoch 144/200\n",
            "20/20 [==============================] - 0s 2ms/step - loss: 0.2362 - accuracy: 0.9055 - val_loss: 0.7106 - val_accuracy: 0.7727\n",
            "Epoch 145/200\n",
            "20/20 [==============================] - 0s 2ms/step - loss: 0.2399 - accuracy: 0.9072 - val_loss: 0.7664 - val_accuracy: 0.7403\n",
            "Epoch 146/200\n",
            "20/20 [==============================] - 0s 2ms/step - loss: 0.2483 - accuracy: 0.8990 - val_loss: 0.7055 - val_accuracy: 0.7727\n",
            "Epoch 147/200\n",
            "20/20 [==============================] - 0s 3ms/step - loss: 0.2328 - accuracy: 0.9088 - val_loss: 0.7093 - val_accuracy: 0.7662\n",
            "Epoch 148/200\n",
            "20/20 [==============================] - 0s 3ms/step - loss: 0.2357 - accuracy: 0.8974 - val_loss: 0.6914 - val_accuracy: 0.7792\n",
            "Epoch 149/200\n",
            "20/20 [==============================] - 0s 2ms/step - loss: 0.2338 - accuracy: 0.9072 - val_loss: 0.8186 - val_accuracy: 0.7338\n",
            "Epoch 150/200\n",
            "20/20 [==============================] - 0s 3ms/step - loss: 0.2480 - accuracy: 0.9039 - val_loss: 0.7333 - val_accuracy: 0.7468\n",
            "Epoch 151/200\n",
            "20/20 [==============================] - 0s 3ms/step - loss: 0.2327 - accuracy: 0.9055 - val_loss: 0.7477 - val_accuracy: 0.7532\n",
            "Epoch 152/200\n",
            "20/20 [==============================] - 0s 3ms/step - loss: 0.2293 - accuracy: 0.8974 - val_loss: 0.7728 - val_accuracy: 0.7403\n",
            "Epoch 153/200\n",
            "20/20 [==============================] - 0s 3ms/step - loss: 0.2379 - accuracy: 0.9121 - val_loss: 0.7378 - val_accuracy: 0.7532\n",
            "Epoch 154/200\n",
            "20/20 [==============================] - 0s 3ms/step - loss: 0.2347 - accuracy: 0.8925 - val_loss: 0.7240 - val_accuracy: 0.7792\n",
            "Epoch 155/200\n",
            "20/20 [==============================] - 0s 3ms/step - loss: 0.2333 - accuracy: 0.9039 - val_loss: 0.7335 - val_accuracy: 0.7532\n",
            "Epoch 156/200\n",
            "20/20 [==============================] - 0s 3ms/step - loss: 0.2280 - accuracy: 0.9055 - val_loss: 0.7594 - val_accuracy: 0.7403\n",
            "Epoch 157/200\n",
            "20/20 [==============================] - 0s 3ms/step - loss: 0.2381 - accuracy: 0.9023 - val_loss: 0.8067 - val_accuracy: 0.7273\n",
            "Epoch 158/200\n",
            "20/20 [==============================] - 0s 3ms/step - loss: 0.2285 - accuracy: 0.9104 - val_loss: 0.7507 - val_accuracy: 0.7468\n",
            "Epoch 159/200\n",
            "20/20 [==============================] - 0s 3ms/step - loss: 0.2267 - accuracy: 0.9088 - val_loss: 0.7493 - val_accuracy: 0.7727\n",
            "Epoch 160/200\n",
            "20/20 [==============================] - 0s 3ms/step - loss: 0.2304 - accuracy: 0.8958 - val_loss: 0.7384 - val_accuracy: 0.7792\n",
            "Epoch 161/200\n",
            "20/20 [==============================] - 0s 2ms/step - loss: 0.2250 - accuracy: 0.9088 - val_loss: 0.7080 - val_accuracy: 0.7662\n",
            "Epoch 162/200\n",
            "20/20 [==============================] - 0s 2ms/step - loss: 0.2274 - accuracy: 0.9055 - val_loss: 0.7467 - val_accuracy: 0.7468\n",
            "Epoch 163/200\n",
            "20/20 [==============================] - 0s 4ms/step - loss: 0.2215 - accuracy: 0.9072 - val_loss: 0.7680 - val_accuracy: 0.7403\n",
            "Epoch 164/200\n",
            "20/20 [==============================] - 0s 2ms/step - loss: 0.2287 - accuracy: 0.9023 - val_loss: 0.7592 - val_accuracy: 0.7662\n",
            "Epoch 165/200\n",
            "20/20 [==============================] - 0s 2ms/step - loss: 0.2225 - accuracy: 0.9088 - val_loss: 0.7453 - val_accuracy: 0.7727\n",
            "Epoch 166/200\n",
            "20/20 [==============================] - 0s 2ms/step - loss: 0.2232 - accuracy: 0.9104 - val_loss: 0.7555 - val_accuracy: 0.7597\n",
            "Epoch 167/200\n",
            "20/20 [==============================] - 0s 2ms/step - loss: 0.2204 - accuracy: 0.9186 - val_loss: 0.7690 - val_accuracy: 0.7532\n",
            "Epoch 168/200\n",
            "20/20 [==============================] - 0s 3ms/step - loss: 0.2246 - accuracy: 0.9023 - val_loss: 0.7762 - val_accuracy: 0.7532\n",
            "Epoch 169/200\n",
            "20/20 [==============================] - 0s 3ms/step - loss: 0.2229 - accuracy: 0.9153 - val_loss: 0.8119 - val_accuracy: 0.7403\n",
            "Epoch 170/200\n",
            "20/20 [==============================] - 0s 3ms/step - loss: 0.2200 - accuracy: 0.9121 - val_loss: 0.7502 - val_accuracy: 0.7727\n",
            "Epoch 171/200\n",
            "20/20 [==============================] - 0s 3ms/step - loss: 0.2263 - accuracy: 0.9055 - val_loss: 0.7545 - val_accuracy: 0.7792\n",
            "Epoch 172/200\n",
            "20/20 [==============================] - 0s 2ms/step - loss: 0.2180 - accuracy: 0.9088 - val_loss: 0.7800 - val_accuracy: 0.7468\n",
            "Epoch 173/200\n",
            "20/20 [==============================] - 0s 3ms/step - loss: 0.2195 - accuracy: 0.9202 - val_loss: 0.8146 - val_accuracy: 0.7403\n",
            "Epoch 174/200\n",
            "20/20 [==============================] - 0s 3ms/step - loss: 0.2121 - accuracy: 0.9169 - val_loss: 0.7346 - val_accuracy: 0.7857\n",
            "Epoch 175/200\n",
            "20/20 [==============================] - 0s 4ms/step - loss: 0.2194 - accuracy: 0.9104 - val_loss: 0.8288 - val_accuracy: 0.7468\n",
            "Epoch 176/200\n",
            "20/20 [==============================] - 0s 3ms/step - loss: 0.2248 - accuracy: 0.9023 - val_loss: 0.7812 - val_accuracy: 0.7662\n",
            "Epoch 177/200\n",
            "20/20 [==============================] - 0s 3ms/step - loss: 0.2026 - accuracy: 0.9235 - val_loss: 0.8339 - val_accuracy: 0.7532\n",
            "Epoch 178/200\n",
            "20/20 [==============================] - 0s 3ms/step - loss: 0.2163 - accuracy: 0.9153 - val_loss: 0.8158 - val_accuracy: 0.7597\n",
            "Epoch 179/200\n",
            "20/20 [==============================] - 0s 3ms/step - loss: 0.2089 - accuracy: 0.9186 - val_loss: 0.8023 - val_accuracy: 0.7727\n",
            "Epoch 180/200\n",
            "20/20 [==============================] - 0s 3ms/step - loss: 0.2076 - accuracy: 0.9104 - val_loss: 0.8723 - val_accuracy: 0.7273\n",
            "Epoch 181/200\n",
            "20/20 [==============================] - 0s 3ms/step - loss: 0.2091 - accuracy: 0.9218 - val_loss: 0.7953 - val_accuracy: 0.7727\n",
            "Epoch 182/200\n",
            "20/20 [==============================] - 0s 3ms/step - loss: 0.2134 - accuracy: 0.9235 - val_loss: 0.8372 - val_accuracy: 0.7597\n",
            "Epoch 183/200\n",
            "20/20 [==============================] - 0s 3ms/step - loss: 0.2126 - accuracy: 0.9169 - val_loss: 0.8242 - val_accuracy: 0.7532\n",
            "Epoch 184/200\n",
            "20/20 [==============================] - 0s 3ms/step - loss: 0.2058 - accuracy: 0.9202 - val_loss: 0.8446 - val_accuracy: 0.7273\n",
            "Epoch 185/200\n",
            "20/20 [==============================] - 0s 4ms/step - loss: 0.2049 - accuracy: 0.9218 - val_loss: 0.8940 - val_accuracy: 0.7273\n",
            "Epoch 186/200\n",
            "20/20 [==============================] - 0s 3ms/step - loss: 0.2052 - accuracy: 0.9202 - val_loss: 0.8218 - val_accuracy: 0.7727\n",
            "Epoch 187/200\n",
            "20/20 [==============================] - 0s 2ms/step - loss: 0.2074 - accuracy: 0.9235 - val_loss: 0.8615 - val_accuracy: 0.7403\n",
            "Epoch 188/200\n",
            "20/20 [==============================] - 0s 3ms/step - loss: 0.1980 - accuracy: 0.9169 - val_loss: 0.7878 - val_accuracy: 0.7662\n",
            "Epoch 189/200\n",
            "20/20 [==============================] - 0s 3ms/step - loss: 0.2023 - accuracy: 0.9218 - val_loss: 0.8245 - val_accuracy: 0.7662\n",
            "Epoch 190/200\n",
            "20/20 [==============================] - 0s 3ms/step - loss: 0.2046 - accuracy: 0.9316 - val_loss: 0.8475 - val_accuracy: 0.7662\n",
            "Epoch 191/200\n",
            "20/20 [==============================] - 0s 4ms/step - loss: 0.2019 - accuracy: 0.9218 - val_loss: 0.7715 - val_accuracy: 0.7727\n",
            "Epoch 192/200\n",
            "20/20 [==============================] - 0s 3ms/step - loss: 0.2083 - accuracy: 0.9251 - val_loss: 0.8030 - val_accuracy: 0.7727\n",
            "Epoch 193/200\n",
            "20/20 [==============================] - 0s 2ms/step - loss: 0.1926 - accuracy: 0.9283 - val_loss: 0.8260 - val_accuracy: 0.7727\n",
            "Epoch 194/200\n",
            "20/20 [==============================] - 0s 3ms/step - loss: 0.1996 - accuracy: 0.9251 - val_loss: 0.8406 - val_accuracy: 0.7532\n",
            "Epoch 195/200\n",
            "20/20 [==============================] - 0s 3ms/step - loss: 0.2106 - accuracy: 0.9169 - val_loss: 0.8387 - val_accuracy: 0.7532\n",
            "Epoch 196/200\n",
            "20/20 [==============================] - 0s 3ms/step - loss: 0.1894 - accuracy: 0.9300 - val_loss: 0.8526 - val_accuracy: 0.7468\n",
            "Epoch 197/200\n",
            "20/20 [==============================] - 0s 3ms/step - loss: 0.1977 - accuracy: 0.9300 - val_loss: 0.8098 - val_accuracy: 0.7662\n",
            "Epoch 198/200\n",
            "20/20 [==============================] - 0s 3ms/step - loss: 0.1967 - accuracy: 0.9283 - val_loss: 0.9035 - val_accuracy: 0.7338\n",
            "Epoch 199/200\n",
            "20/20 [==============================] - 0s 3ms/step - loss: 0.1977 - accuracy: 0.9202 - val_loss: 0.9117 - val_accuracy: 0.7403\n",
            "Epoch 200/200\n",
            "20/20 [==============================] - 0s 3ms/step - loss: 0.1935 - accuracy: 0.9251 - val_loss: 0.8230 - val_accuracy: 0.7727\n"
          ]
        },
        {
          "output_type": "execute_result",
          "data": {
            "text/plain": [
              "<keras.callbacks.History at 0x7e7fa3bad390>"
            ]
          },
          "metadata": {},
          "execution_count": 81
        }
      ]
    },
    {
      "cell_type": "code",
      "source": [],
      "metadata": {
        "id": "qEXUobENCqUX"
      },
      "execution_count": null,
      "outputs": []
    }
  ]
}