{
  "cells": [
    {
      "cell_type": "markdown",
      "metadata": {
        "id": "ObrH39I6cgto"
      },
      "source": [
        "Imports\n"
      ]
    },
    {
      "cell_type": "code",
      "execution_count": null,
      "metadata": {
        "id": "wy7DzW4fcjpU"
      },
      "outputs": [],
      "source": [
        "import tensorflow as tf\n",
        "from tensorflow import keras"
      ]
    },
    {
      "cell_type": "code",
      "execution_count": null,
      "metadata": {
        "id": "og8-2DjdcqB6"
      },
      "outputs": [],
      "source": [
        "# helper libraries\n",
        "import numpy as np\n",
        "import matplotlib.pyplot as plt"
      ]
    },
    {
      "cell_type": "markdown",
      "metadata": {
        "id": "1N8ar4rQc6Yt"
      },
      "source": [
        "Dataset"
      ]
    },
    {
      "cell_type": "code",
      "execution_count": null,
      "metadata": {
        "id": "5ylhYwEic8JE"
      },
      "outputs": [],
      "source": [
        "fashion_mnist = keras.datasets.fashion_mnist  #load datasets\n"
      ]
    },
    {
      "cell_type": "code",
      "execution_count": null,
      "metadata": {
        "colab": {
          "base_uri": "https://localhost:8080/"
        },
        "id": "6LjKqWjMdIlD",
        "outputId": "8021ee7d-09d9-4ae9-e956-223f2ec92418"
      },
      "outputs": [
        {
          "name": "stdout",
          "output_type": "stream",
          "text": [
            "Downloading data from https://storage.googleapis.com/tensorflow/tf-keras-datasets/train-labels-idx1-ubyte.gz\n",
            "29515/29515 [==============================] - 0s 0us/step\n",
            "Downloading data from https://storage.googleapis.com/tensorflow/tf-keras-datasets/train-images-idx3-ubyte.gz\n",
            "26421880/26421880 [==============================] - 0s 0us/step\n",
            "Downloading data from https://storage.googleapis.com/tensorflow/tf-keras-datasets/t10k-labels-idx1-ubyte.gz\n",
            "5148/5148 [==============================] - 0s 0us/step\n",
            "Downloading data from https://storage.googleapis.com/tensorflow/tf-keras-datasets/t10k-images-idx3-ubyte.gz\n",
            "4422102/4422102 [==============================] - 0s 0us/step\n"
          ]
        }
      ],
      "source": [
        "# split the dataset into training and testing\n",
        "(train_img,train_labels),(test_img,test_labels)=fashion_mnist.load_data()"
      ]
    },
    {
      "cell_type": "code",
      "execution_count": null,
      "metadata": {
        "colab": {
          "base_uri": "https://localhost:8080/"
        },
        "id": "ojitBVoMdfE0",
        "outputId": "72f680ef-749d-44fe-94ec-00c84882ef96"
      },
      "outputs": [
        {
          "data": {
            "text/plain": [
              "(60000, 28, 28)"
            ]
          },
          "execution_count": 6,
          "metadata": {},
          "output_type": "execute_result"
        }
      ],
      "source": [
        "train_img.shape"
      ]
    },
    {
      "cell_type": "markdown",
      "metadata": {
        "id": "d5Qop3iud9dZ"
      },
      "source": [
        "means we gpt 60000 images of pixel 28x28(784 in total)"
      ]
    },
    {
      "cell_type": "code",
      "execution_count": null,
      "metadata": {
        "colab": {
          "base_uri": "https://localhost:8080/"
        },
        "id": "fILUjPi6eJe9",
        "outputId": "5a5f34d4-cdf0-42e2-ed29-40a4cc8e3682"
      },
      "outputs": [
        {
          "data": {
            "text/plain": [
              "numpy.ndarray"
            ]
          },
          "execution_count": 7,
          "metadata": {},
          "output_type": "execute_result"
        }
      ],
      "source": [
        "# to check the type of dataframe of train_img\n",
        "type(train_img)"
      ]
    },
    {
      "cell_type": "code",
      "execution_count": null,
      "metadata": {
        "colab": {
          "base_uri": "https://localhost:8080/"
        },
        "id": "cXw2PSiveXIP",
        "outputId": "fc36ce1d-3a3c-4363-f678-beb089616b17"
      },
      "outputs": [
        {
          "data": {
            "text/plain": [
              "176"
            ]
          },
          "execution_count": 14,
          "metadata": {},
          "output_type": "execute_result"
        }
      ],
      "source": [
        "# lets have look at one pixel\n",
        "train_img[0,22,22]"
      ]
    },
    {
      "cell_type": "markdown",
      "metadata": {
        "id": "u6mS_SGVfYPx"
      },
      "source": [
        "this number show the RGB value of the pixel at that coordinate"
      ]
    },
    {
      "cell_type": "code",
      "execution_count": null,
      "metadata": {
        "id": "I8HjC2wCfa3n"
      },
      "outputs": [],
      "source": [
        "class_names = ['tshirt','trouer','pullover','dress','coat','sandal','shirt','sneaker','bag','ankleboot']"
      ]
    },
    {
      "cell_type": "code",
      "execution_count": null,
      "metadata": {
        "colab": {
          "base_uri": "https://localhost:8080/",
          "height": 52
        },
        "id": "hbaEU9gWgFPd",
        "outputId": "a379b381-8810-4d87-bdad-9eaa69892030"
      },
      "outputs": [
        {
          "data": {
            "text/plain": [
              "<Figure size 640x480 with 0 Axes>"
            ]
          },
          "execution_count": 16,
          "metadata": {},
          "output_type": "execute_result"
        },
        {
          "data": {
            "text/plain": [
              "<Figure size 640x480 with 0 Axes>"
            ]
          },
          "metadata": {},
          "output_type": "display_data"
        }
      ],
      "source": [
        "plt.figure()\n"
      ]
    },
    {
      "cell_type": "code",
      "execution_count": null,
      "metadata": {
        "colab": {
          "base_uri": "https://localhost:8080/",
          "height": 430
        },
        "id": "83PfWyzlgKMY",
        "outputId": "10d2d2bb-7c27-4585-8a2d-9e07689f2588"
      },
      "outputs": [
        {
          "data": {
            "image/png": "[encoded data removed]",
            "text/plain": [
              "<Figure size 640x480 with 2 Axes>"
            ]
          },
          "metadata": {},
          "output_type": "display_data"
        }
      ],
      "source": [
        "plt.imshow(train_img[30])\n",
        "plt.colorbar()\n",
        "plt.grid(False)\n",
        "plt.show()"
      ]
    },
    {
      "cell_type": "markdown",
      "metadata": {
        "id": "_6XQ-wIahHCd"
      },
      "source": [
        "Data preprocessing"
      ]
    },
    {
      "cell_type": "code",
      "execution_count": null,
      "metadata": {
        "id": "SxAdULdBhIp8"
      },
      "outputs": [],
      "source": [
        "train_img = train_img/255.0\n",
        "test_img = test_img/255.0"
      ]
    },
    {
      "cell_type": "markdown",
      "metadata": {
        "id": "kiwf0Zgphzpa"
      },
      "source": [
        "Building our model"
      ]
    },
    {
      "cell_type": "code",
      "execution_count": null,
      "metadata": {
        "id": "nAKd7-pwh1sG"
      },
      "outputs": [],
      "source": [
        "model = keras.Sequential([\n",
        "    keras.layers.Flatten(input_shape=(28,28)), #input layer: When this Flatten layer is used as the first layer in a model, it takes the 2D input data and flattens it into a 1D array of length 784 (28 * 28).\n",
        "    keras.layers.Dense(128,activation='relu'), #hidden layer\n",
        "    keras.layers.Dense(10,activation='softmax')\n",
        "])"
      ]
    },
    {
      "cell_type": "markdown",
      "metadata": {
        "id": "WQPwzLRBkk20"
      },
      "source": [
        "Compile the model"
      ]
    },
    {
      "cell_type": "code",
      "execution_count": null,
      "metadata": {
        "id": "Em1OiIfXjXQk"
      },
      "outputs": [],
      "source": [
        "model.compile(loss='sparse_categorical_crossentropy',\n",
        "              optimizer='sgd',\n",
        "              metrics=['accuracy'])"
      ]
    },
    {
      "cell_type": "markdown",
      "metadata": {
        "id": "8DoOoBrtknl9"
      },
      "source": [
        "Training the model"
      ]
    },
    {
      "cell_type": "code",
      "execution_count": null,
      "metadata": {
        "colab": {
          "background_save": true,
          "base_uri": "https://localhost:8080/"
        },
        "id": "A0LFGWjIkpU0",
        "outputId": "d445d5eb-8cf4-434d-c8db-14d5842cb44f"
      },
      "outputs": [
        {
          "name": "stdout",
          "output_type": "stream",
          "text": [
            "Epoch 1/10\n",
            "1875/1875 [==============================] - 8s 4ms/step - loss: 0.7371 - accuracy: 0.7634\n",
            "Epoch 2/10\n",
            "1875/1875 [==============================] - 7s 3ms/step - loss: 0.5105 - accuracy: 0.8260\n",
            "Epoch 3/10\n",
            "1875/1875 [==============================] - 5s 3ms/step - loss: 0.4660 - accuracy: 0.8400\n",
            "Epoch 4/10\n",
            "1875/1875 [==============================] - 6s 3ms/step - loss: 0.4408 - accuracy: 0.8473\n",
            "Epoch 5/10\n",
            "1875/1875 [==============================] - 5s 3ms/step - loss: 0.4236 - accuracy: 0.8527\n",
            "Epoch 6/10\n",
            "1875/1875 [==============================] - 5s 3ms/step - loss: 0.4088 - accuracy: 0.8580\n",
            "Epoch 7/10\n",
            "1875/1875 [==============================] - 6s 3ms/step - loss: 0.3981 - accuracy: 0.8627\n",
            "Epoch 8/10\n",
            "1875/1875 [==============================] - 5s 3ms/step - loss: 0.3884 - accuracy: 0.8648\n",
            "Epoch 9/10\n",
            "1875/1875 [==============================] - 6s 3ms/step - loss: 0.3796 - accuracy: 0.8688\n",
            "Epoch 10/10\n",
            "1875/1875 [==============================] - 5s 3ms/step - loss: 0.3706 - accuracy: 0.8712\n"
          ]
        },
        {
          "data": {
            "text/plain": [
              "<keras.callbacks.History at 0x7efee1f75ed0>"
            ]
          },
          "execution_count": 10,
          "metadata": {},
          "output_type": "execute_result"
        }
      ],
      "source": [
        "model.fit(train_img,train_labels,epochs=10)"
      ]
    },
    {
      "cell_type": "markdown",
      "metadata": {
        "id": "cFTl978ImPsI"
      },
      "source": [
        "Evaluating the model"
      ]
    },
    {
      "cell_type": "code",
      "execution_count": 11,
      "metadata": {
        "colab": {
          "base_uri": "https://localhost:8080/"
        },
        "id": "P2nyMd07ky2R",
        "outputId": "a1150a3d-d2a9-4b9f-b3a2-8a54006bce3a"
      },
      "outputs": [
        {
          "output_type": "stream",
          "name": "stdout",
          "text": [
            "313/313 [==============================] - 1s 2ms/step - loss: 0.4120 - accuracy: 0.8562\n"
          ]
        }
      ],
      "source": [
        "test_loss,test_acc = model.evaluate(test_img,test_labels,verbose=1)"
      ]
    },
    {
      "cell_type": "code",
      "execution_count": 12,
      "metadata": {
        "colab": {
          "base_uri": "https://localhost:8080/"
        },
        "id": "xakwTdYOmsUa",
        "outputId": "974d0b07-2436-406f-a908-78d18c233718"
      },
      "outputs": [
        {
          "output_type": "stream",
          "name": "stdout",
          "text": [
            "test accuracy 0.8561999797821045\n"
          ]
        }
      ],
      "source": [
        "print('test accuracy',test_acc)"
      ]
    },
    {
      "cell_type": "markdown",
      "metadata": {
        "id": "GwlU1IXlF7ZT"
      },
      "source": [
        "predict the model"
      ]
    },
    {
      "cell_type": "code",
      "execution_count": 13,
      "metadata": {
        "colab": {
          "base_uri": "https://localhost:8080/"
        },
        "id": "P-FldFh7F9h9",
        "outputId": "4f01d925-b310-4e83-a9f0-ff9fb5e66e92"
      },
      "outputs": [
        {
          "output_type": "stream",
          "name": "stdout",
          "text": [
            "313/313 [==============================] - 1s 4ms/step\n"
          ]
        }
      ],
      "source": [
        "predict = model.predict(test_img)"
      ]
    },
    {
      "cell_type": "code",
      "execution_count": 14,
      "metadata": {
        "id": "eES27mvsISUm",
        "colab": {
          "base_uri": "https://localhost:8080/"
        },
        "outputId": "0021a022-950c-4b82-f426-e559593e0691"
      },
      "outputs": [
        {
          "output_type": "stream",
          "name": "stdout",
          "text": [
            "[[1.5570336e-05 2.9222638e-06 1.1745733e-05 ... 8.5978962e-02\n",
            "  3.3671146e-03 7.9713929e-01]\n",
            " [8.7075845e-05 2.8039885e-06 9.7862899e-01 ... 3.2750953e-13\n",
            "  1.3885191e-05 9.8549424e-12]\n",
            " [5.7392448e-05 9.9985170e-01 2.0189305e-05 ... 7.3081559e-08\n",
            "  3.2261387e-06 5.6064016e-09]\n",
            " ...\n",
            " [5.9860382e-02 9.2101018e-06 1.8480779e-03 ... 2.7603441e-04\n",
            "  9.0164423e-01 5.4065999e-06]\n",
            " [6.7879964e-06 9.9950475e-01 1.5925762e-05 ... 1.2134697e-06\n",
            "  4.9555683e-06 3.9903239e-06]\n",
            " [2.9660430e-04 1.4467200e-04 4.3597550e-04 ... 6.0149133e-02\n",
            "  2.0932185e-02 5.1648878e-03]]\n"
          ]
        }
      ],
      "source": [
        "print(predict)"
      ]
    },
    {
      "cell_type": "code",
      "source": [],
      "metadata": {
        "id": "oOOxtPYLKbPQ"
      },
      "execution_count": null,
      "outputs": []
    }
  ],
  "metadata": {
    "colab": {
      "provenance": []
    },
    "kernelspec": {
      "display_name": "Python 3",
      "name": "python3"
    },
    "language_info": {
      "name": "python"
    }
  },
  "nbformat": 4,
  "nbformat_minor": 0
}